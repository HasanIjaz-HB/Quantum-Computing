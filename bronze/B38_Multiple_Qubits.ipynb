{
 "cells": [
  {
   "cell_type": "markdown",
   "metadata": {},
   "source": [
    "<table>\n",
    "    <tr><td align=\"right\" style=\"background-color:#ffffff;\">\n",
    "        <img src=\"../images/logo.jpg\" width=\"20%\" align=\"right\">\n",
    "    </td></tr>\n",
    "    <tr><td align=\"right\" style=\"color:#777777;background-color:#ffffff;font-size:12px;\">\n",
    "        Prepared by Abuzer Yakaryilmaz <br>\n",
    "        Özlem Salehi | August 28, 2019 (updated)\n",
    "    </td></tr>\n",
    "    <tr><td align=\"right\" style=\"color:#bbbbbb;background-color:#ffffff;font-size:11px;font-style:italic;\">\n",
    "        This cell contains some macros. If there is a problem with displaying mathematical formulas, please run this cell to load these macros.\n",
    "    </td></tr>\n",
    "</table>\n",
    "$ \\newcommand{\\bra}[1]{\\langle #1|} $\n",
    "$ \\newcommand{\\ket}[1]{|#1\\rangle} $\n",
    "$ \\newcommand{\\braket}[2]{\\langle #1|#2\\rangle} $\n",
    "$ \\newcommand{\\dot}[2]{ #1 \\cdot #2} $\n",
    "$ \\newcommand{\\biginner}[2]{\\left\\langle #1,#2\\right\\rangle} $\n",
    "$ \\newcommand{\\mymatrix}[2]{\\left( \\begin{array}{#1} #2\\end{array} \\right)} $\n",
    "$ \\newcommand{\\myvector}[1]{\\mymatrix{c}{#1}} $\n",
    "$ \\newcommand{\\myrvector}[1]{\\mymatrix{r}{#1}} $\n",
    "$ \\newcommand{\\mypar}[1]{\\left( #1 \\right)} $\n",
    "$ \\newcommand{\\mybigpar}[1]{ \\Big( #1 \\Big)} $\n",
    "$ \\newcommand{\\sqrttwo}{\\frac{1}{\\sqrt{2}}} $\n",
    "$ \\newcommand{\\dsqrttwo}{\\dfrac{1}{\\sqrt{2}}} $\n",
    "$ \\newcommand{\\onehalf}{\\frac{1}{2}} $\n",
    "$ \\newcommand{\\donehalf}{\\dfrac{1}{2}} $\n",
    "$ \\newcommand{\\hadamard}{ \\mymatrix{rr}{ \\sqrttwo & \\sqrttwo \\\\ \\sqrttwo & -\\sqrttwo }} $\n",
    "$ \\newcommand{\\vzero}{\\myvector{1\\\\0}} $\n",
    "$ \\newcommand{\\vone}{\\myvector{0\\\\1}} $\n",
    "$ \\newcommand{\\vhadamardzero}{\\myvector{ \\sqrttwo \\\\  \\sqrttwo } } $\n",
    "$ \\newcommand{\\vhadamardone}{ \\myrvector{ \\sqrttwo \\\\ -\\sqrttwo } } $\n",
    "$ \\newcommand{\\myarray}[2]{ \\begin{array}{#1}#2\\end{array}} $\n",
    "$ \\newcommand{\\X}{ \\mymatrix{cc}{0 & 1 \\\\ 1 & 0}  } $\n",
    "$ \\newcommand{\\Z}{ \\mymatrix{rr}{1 & 0 \\\\ 0 & -1}  } $\n",
    "$ \\newcommand{\\Htwo}{ \\mymatrix{rrrr}{ \\frac{1}{2} & \\frac{1}{2} & \\frac{1}{2} & \\frac{1}{2} \\\\ \\frac{1}{2} & -\\frac{1}{2} & \\frac{1}{2} & -\\frac{1}{2} \\\\ \\frac{1}{2} & \\frac{1}{2} & -\\frac{1}{2} & -\\frac{1}{2} \\\\ \\frac{1}{2} & -\\frac{1}{2} & -\\frac{1}{2} & \\frac{1}{2} } } $\n",
    "$ \\newcommand{\\CNOT}{ \\mymatrix{cccc}{1 & 0 & 0 & 0 \\\\ 0 & 1 & 0 & 0 \\\\ 0 & 0 & 0 & 1 \\\\ 0 & 0 & 1 & 0} } $\n",
    "$ \\newcommand{\\norm}[1]{ \\left\\lVert #1 \\right\\rVert } $"
   ]
  },
  {
   "cell_type": "markdown",
   "metadata": {},
   "source": [
    "<h2> Two Qubits</h2>\n",
    "\n",
    "Suppose that we have two qubits.\n",
    "\n",
    "If we combine both qubits as a single system, then what is the state of the combined system?"
   ]
  },
  {
   "cell_type": "markdown",
   "metadata": {},
   "source": [
    "<h3> Composite system </h3>\n",
    "\n",
    "Recall the tensor product. The relation between state $ \\ket{xy} $ and the states  $ \\ket{x} $ and $ \\ket{y} $ is very simple:\n",
    "\n",
    "$ \\ket{xy} = \\ket{x} \\otimes \\ket{y} $. \n",
    "\n",
    "It is also shortly written as $ \\ket{xy} = \\ket{x} \\ket{y}  $ by omitting the tensor product operator.\n",
    "\n",
    "\n",
    "In general, the state $ \\ket{xy} $ means that \n",
    "<ul>\n",
    "    <li>the first qubit is in state $ \\ket{x} $ and </li>\n",
    "    <li>the second qubit is in state $ \\ket{y} $, </li>\n",
    "</ul>\n",
    "where $ x,y \\in \\{0,1\\} $."
   ]
  },
  {
   "cell_type": "markdown",
   "metadata": {},
   "source": [
    "In total, we have four different basis states. We represent them as follows:\n",
    "<ul>\n",
    "    <li>$|00\\rangle$: both qubits are in states 0</li>\n",
    "    <li>$|01\\rangle$: the first qubit is in state 0 and the second qubit is in state 1</li>\n",
    "    <li>$|10\\rangle$: the first bit is in state 1 and the second bit is in state 0</li>\n",
    "    <li>$|11\\rangle$ : both bits are in states 1</li>\n",
    "</ul>\n",
    "\n",
    "The system can also be in a superposition of these states, in which case it is represented by\n",
    "\n",
    "$$\\alpha_{00}\\ket{00} + \\alpha_{01}\\ket{01} + \\alpha_{10}\\ket{10} + \\alpha_{11}\\ket{11}$$\n",
    "\n",
    "where the squares of the amplitudes are equal to 1."
   ]
  },
  {
   "cell_type": "markdown",
   "metadata": {},
   "source": [
    "<b>Example</b>\n",
    "\n",
    "Assume that, \n",
    "the state of the first qubit is $  \\myvector{\\frac{1}{\\sqrt{3}} \\\\ \\frac{\\sqrt{2}}{\\sqrt{3}} } = \\frac{1}{\\sqrt{3}} \\ket{0} + \\frac{\\sqrt{2}}{\\sqrt{3}} \\ket{1} $ and the state of the second qubit is $ \\myvector{-\\frac{1}{\\sqrt{2}} \\\\ \\frac{1}{\\sqrt{2}} } = -\\frac{1}{\\sqrt{2}} \\ket{0} + \\frac{1}{\\sqrt{2}} \\ket{1} $ .\n",
    "\n",
    "Then, the state of the composite system is given by $ \\Bigg(\\frac{1}{\\sqrt{3}} \\ket{0} + \\frac{\\sqrt{2}}{\\sqrt{3}} \\ket{1} \\Bigg ) \\otimes  \\Bigg( -\\frac{1}{\\sqrt{2}} \\ket{0} + \\frac{1}{\\sqrt{2}} \\ket{1} \\Bigg )$ ."
   ]
  },
  {
   "cell_type": "markdown",
   "metadata": {},
   "source": [
    "<h3> Task 1 </h3>\n",
    "\n",
    "Find the state of the composite system."
   ]
  },
  {
   "cell_type": "markdown",
   "metadata": {},
   "source": [
    "<a href=\"B38_Multiple_Qubits_Solutions.ipynb#task1\">click for our solution</a>"
   ]
  },
  {
   "cell_type": "markdown",
   "metadata": {},
   "source": [
    "<h3> Vector representation </h3>\n",
    "    \n",
    "The vector representations of $ \\ket{00}, \\ket{01}, \\ket{10}, \\ket{11} $ are as follows:\n",
    "\n",
    "$$\n",
    "    \\ket{00} = \\myvector{1 \\\\ 0 \\\\ 0 \\\\ 0},\n",
    "    ~~~~~~\n",
    "    \\ket{01} = \\myvector{0 \\\\ 1 \\\\ 0 \\\\ 0},\n",
    "    ~~~~~~\n",
    "    \\ket{10} = \\myvector{0 \\\\ 0 \\\\ 1 \\\\ 0},\n",
    "    ~~~ \\mbox{ and }  ~~~\n",
    "    \\ket{11} = \\myvector{0 \\\\ 0 \\\\ 0 \\\\ 1}.\n",
    "$$"
   ]
  },
  {
   "cell_type": "markdown",
   "metadata": {},
   "source": [
    "Let's quickly verify each vector representation. \n",
    "\n",
    "Remember that $ \\ket{0} = \\myvector{1 \\\\ 0} $ and $ \\ket{1} = \\myvector{0 \\\\ 1} $.\n",
    "\n",
    "$$\n",
    "    \\ket{00} =  \\ket{0} \\otimes \\ket{0} = \\vzero \\otimes \\vzero =  \\myvector{1 \\\\ 0 \\\\ 0 \\\\ 0}.\n",
    "$$\n",
    "\n",
    "$$\n",
    "    \\ket{01} =  \\ket{0} \\otimes \\ket{1} = \\vzero \\otimes \\vone =  \\myvector{0 \\\\ 1 \\\\ 0 \\\\ 0}.\n",
    "$$\n",
    "\n",
    "$$\n",
    "    \\ket{10} =  \\ket{1} \\otimes \\ket{0} = \\vone \\otimes \\vzero =  \\myvector{0 \\\\ 0 \\\\ 1 \\\\ 0}.\n",
    "$$\n",
    "\n",
    "$$\n",
    "    \\ket{11} =  \\ket{1} \\otimes \\ket{1} = \\vone \\otimes \\vone =  \\myvector{0 \\\\ 0 \\\\ 0 \\\\ 1}.\n",
    "$$\n",
    "\n",
    "Hence the vector representation for the state $\\alpha_{00}  \\ket{00} + \\alpha_{01}  \\ket{01} + \\alpha_{10}  \\ket{10} +  \\alpha_{11} \\ket{11}  $ is given by $\\myvector{\\alpha_{00} \\\\ \\alpha_{01} \\\\ \\alpha_{10} \\\\ \\alpha_{11}}$."
   ]
  },
  {
   "cell_type": "markdown",
   "metadata": {},
   "source": [
    "<h3>Tensor product of operators - Applying Hadamards to two qubits</h3>\n",
    "\n",
    "Applying ah h-gate to the first and second qubits is the same as applying the following single operator on both qubits:\n",
    "\n",
    "$$\n",
    "   H^{\\otimes 2} = H \\otimes H = \\hadamard \\otimes \\hadamard = \\Htwo .\n",
    "$$"
   ]
  },
  {
   "cell_type": "markdown",
   "metadata": {},
   "source": [
    "<h4> Case 1: Let's find $ H^{\\otimes 2} \\ket{00} $ (in three different ways) </h4>\n",
    "<ul>\n",
    "    <li> Direct matrix-vector multiplication:\n",
    "        $$\n",
    "            H^{\\otimes 2} \\ket{00} \n",
    "            = \\Htwo \\myvector{1 \\\\ 0 \\\\ 0 \\\\ 0} \n",
    "            = \\myvector{ \\frac{1}{2} \\\\ \\frac{1}{2} \\\\ \\frac{1}{2} \\\\ \\frac{1}{2} } .\n",
    "        $$ </li> \n",
    "    <li> We calculate the quantum state of each state, and then find the quantum state of the composite system.\n",
    "        $$\n",
    "            H\\ket{0} \\otimes H \\ket{0} \n",
    "            = \\vhadamardzero \\otimes \\vhadamardzero \n",
    "            = \\myvector{ \\frac{1}{2} \\\\ \\frac{1}{2} \\\\ \\frac{1}{2} \\\\ \\frac{1}{2} }.\n",
    "        $$ </li>\n",
    "    <li> We make calculations with $ \\ket{0} $ and $ \\ket{1} $.\n",
    "        $$\n",
    "            H \\ket{0} \\otimes H \\ket{0} \n",
    "            = \\mypar{ \\frac{1}{\\sqrt{2}} \\ket{0} + \\frac{1}{\\sqrt{2}} \\ket{1} } \n",
    "                \\otimes \\mypar{ \\frac{1}{\\sqrt{2}} \\ket{0} + \\frac{1}{\\sqrt{2}} \\ket{1} }\n",
    "            = \\frac{1}{2} \\ket{00} + \\frac{1}{2} \\ket{01} + \\frac{1}{2} \\ket{10} + \\frac{1}{2} \\ket{11} \n",
    "            = \\myvector{ \\frac{1}{2} \\\\ \\frac{1}{2} \\\\ \\frac{1}{2} \\\\ \\frac{1}{2} }.\n",
    "        $$\n",
    "</ul>"
   ]
  },
  {
   "cell_type": "markdown",
   "metadata": {},
   "source": [
    "\n",
    "<h3> Task 2 </h3>\n",
    "\n",
    "Pick one of the following cases (2, 3, or 4), and verify the correctness of all three different ways for this selected case.\n"
   ]
  },
  {
   "cell_type": "markdown",
   "metadata": {},
   "source": [
    "<a href=\"B38_Multiple_Qubits_Solutions.ipynb#task2\">click for our solution</a>"
   ]
  },
  {
   "cell_type": "markdown",
   "metadata": {},
   "source": [
    "<h3> Multiple qubits </h3>\n",
    "\n",
    "When we have a quantum system with multiple qubits, then the basis states are of the form $\\ket{a_1a_2\\dots a_n}$ where $ a_i \\in \\{0,1\\}$.\n",
    "\n",
    "So, to describe quantum state of such a system we need to specify $2^n$ amplitudes and a vector of dimension $2^n$."
   ]
  },
  {
   "cell_type": "markdown",
   "metadata": {},
   "source": [
    "<h3> Task 3</h3>\n",
    "\n",
    "If the following vectors are valid quantum states defined with real numbers, then what can be the values of $a$ and $b$?\n",
    "\n",
    "$$\n",
    "    \\ket{v} = \\myrvector{-0.1 \\\\ a \\\\ -0.3 \\\\ 0.4 \\\\ 0.5 \\\\ 0.06 \\\\ 0.07 \\\\ -0.08}\n",
    "    ~~~~~ \\mbox{and} ~~~~~\n",
    "   \\ket{u} = \\myrvector{ \\frac{1}{\\sqrt{2}} \\\\ \\frac{1}{\\sqrt{b}} \\\\ -\\frac{1}{\\sqrt{3}} \\\\ \\frac{1}{\\sqrt{50}} }.\n",
    "$$"
   ]
  },
  {
   "cell_type": "code",
   "execution_count": null,
   "metadata": {},
   "outputs": [],
   "source": [
    "#\n",
    "# your code is here \n",
    "#    (you may find the values by hand (in mind) as well)\n",
    "#\n"
   ]
  },
  {
   "cell_type": "markdown",
   "metadata": {},
   "source": [
    "<a href=\"B38_Multiple_Qubits_Solutions.ipynb#task3\">click for our solution</a>"
   ]
  },
  {
   "cell_type": "markdown",
   "metadata": {},
   "source": [
    "<h3> Our first quantum circuit with multiple qubits </h3>\n",
    "\n",
    "Let's create a quantum circuit with four quantum bits. "
   ]
  },
  {
   "cell_type": "code",
   "execution_count": 1,
   "metadata": {},
   "outputs": [
    {
     "name": "stdout",
     "output_type": "stream",
     "text": [
      "Everything looks fine, let's continue ...\n"
     ]
    }
   ],
   "source": [
    "# we import all objects and methods at once\n",
    "from qiskit import QuantumRegister, ClassicalRegister, QuantumCircuit, execute, Aer\n",
    "\n",
    "# we will use 4 quantum bits and 4 classical bits\n",
    "qreg1 =  QuantumRegister(4,\"q\")\n",
    "creg1 = ClassicalRegister(4,\"c\")\n",
    "\n",
    "mycircuit1 = QuantumCircuit(qreg1,creg1)\n",
    "\n",
    "# We will apply x-gate to the first quantum bit twice\n",
    "mycircuit1.x(qreg1[0])\n",
    "mycircuit1.x(qreg1[0])\n",
    "\n",
    "\n",
    "# We will apply x-gate to the second quantum bit four times\n",
    "mycircuit1.x(qreg1[1])\n",
    "mycircuit1.x(qreg1[1])\n",
    "mycircuit1.x(qreg1[1])\n",
    "mycircuit1.x(qreg1[1])\n",
    "\n",
    "# We will apply x-gate to the third quantum bit three times\n",
    "mycircuit1.x(qreg1[2])\n",
    "mycircuit1.x(qreg1[2])\n",
    "mycircuit1.x(qreg1[2])\n",
    "\n",
    "# We will apply x-gate to the fourth quantum bit once\n",
    "mycircuit1.x(qreg1[3])\n",
    "\n",
    "# if the sizes of quantum and classical registers are the same, we can define measurements with a single line of code\n",
    "mycircuit1.measure(qreg1,creg1)\n",
    "# then quantum bits and classical bits are associated with respect to their indices\n",
    "\n",
    "# let's run our codes until now, and then draw our circuit\n",
    "\n",
    "print(\"Everything looks fine, let's continue ...\")"
   ]
  },
  {
   "cell_type": "markdown",
   "metadata": {},
   "source": [
    "The default order of quantum bits from top to down is $ qreg[0], qreg[1], qreg[2], qreg[3] $."
   ]
  },
  {
   "cell_type": "code",
   "execution_count": 3,
   "metadata": {},
   "outputs": [
    {
     "data": {
      "image/png": "[encoded data removed]",
      "text/plain": [
       "<Figure size 517.72x325.08 with 1 Axes>"
      ]
     },
     "execution_count": 3,
     "metadata": {},
     "output_type": "execute_result"
    }
   ],
   "source": [
    "mycircuit1.draw(output='mpl')\n",
    "# re-execute me if you DO NOT see the circuit diagram"
   ]
  },
  {
   "cell_type": "markdown",
   "metadata": {},
   "source": [
    "We can also reverse the order of quantum bits. It can be useful in certain context."
   ]
  },
  {
   "cell_type": "code",
   "execution_count": 4,
   "metadata": {},
   "outputs": [
    {
     "data": {
      "image/png": "[encoded data removed]",
      "text/plain": [
       "<Figure size 517.72x325.08 with 1 Axes>"
      ]
     },
     "execution_count": 4,
     "metadata": {},
     "output_type": "execute_result"
    }
   ],
   "source": [
    "# by seting parameter \"reverse_bits\" to \"True\", the order of quantum bits are reversed when drawing\n",
    "\n",
    "mycircuit1.draw(output='mpl',reverse_bits=True)\n",
    "# re-execute me if you DO NOT see the circuit diagram"
   ]
  },
  {
   "cell_type": "markdown",
   "metadata": {},
   "source": [
    "Guess the outcome by checking the circuit.\n",
    "\n",
    "Then, compare your guess with the result obtained after executing our circuit 500 times."
   ]
  },
  {
   "cell_type": "code",
   "execution_count": 5,
   "metadata": {},
   "outputs": [
    {
     "name": "stdout",
     "output_type": "stream",
     "text": [
      "{'1100': 500}\n"
     ]
    }
   ],
   "source": [
    "job = execute(mycircuit1,Aer.get_backend('qasm_simulator'),shots=500)\n",
    "counts = job.result().get_counts(mycircuit1)\n",
    "print(counts)"
   ]
  },
  {
   "cell_type": "markdown",
   "metadata": {},
   "source": [
    "<h3>Reading order</h3> \n",
    "\n",
    "Qiskit combines the four quantum bits in the following order:\n",
    "\n",
    "$$ qreg[3], qreg[2], qreg[1], qreg[0] .$$\n",
    "\n",
    "Then, the each outcome is read in the same order.\n",
    "\n",
    "\n",
    "The outcome is a binary number, and so the first digit is expected to be the most significant bit and the last digit is expected to be the least significant bit.\n",
    "\n",
    "For example, $ 13 =  \\mathbf{1} \\cdot 2^3 + \\mathbf{1} \\cdot 2^2 + \\mathbf{0} \\cdot 2^1 + \\mathbf{1} \\cdot 2^0 $, which is equal to $ \\mathbf{1101} $ in binary.\n",
    "\n",
    "In this case, $ creg[3] = 1 $, $ creg[2] = 1 $, $ creg[1] = 0 $, and $ creg[0] = 1$. "
   ]
  },
  {
   "cell_type": "markdown",
   "metadata": {},
   "source": [
    "<h3> Reverse the output </h3>\n",
    "\n",
    "Let's write a method to print the reverse of the outcomes whenever it is needed."
   ]
  },
  {
   "cell_type": "code",
   "execution_count": 6,
   "metadata": {},
   "outputs": [
    {
     "name": "stdout",
     "output_type": "stream",
     "text": [
      "0011 is observed 1024 times\n"
     ]
    }
   ],
   "source": [
    "def print_outcomes(counts): # takes a dictionary variable\n",
    "    for outcome in counts: # for each key-value in dictionary\n",
    "        reverse_outcome = ''\n",
    "        for i in outcome: # each string can be considered as a list of characters\n",
    "            reverse_outcome = i + reverse_outcome # each new symbol comes before the old symbol(s)\n",
    "        print(reverse_outcome,\"is observed\",counts[outcome],\"times\")\n",
    "\n",
    "job = execute(mycircuit1,Aer.get_backend('qasm_simulator'),shots=1024)\n",
    "counts = job.result().get_counts(mycircuit1) # counts is a dictionary object in python\n",
    "print_outcomes(counts)"
   ]
  },
  {
   "cell_type": "markdown",
   "metadata": {},
   "source": [
    "<h3>Reading quantum state of a circuit</h3>\n",
    "\n",
    "By using \"statevector_simulator\", we can read the quantum state of a circuit until that point.\n",
    "\n",
    "This simulator traces the computation of the circuit, and then returns the latest value of the quantum state.\n",
    "\n",
    "    job = execute(mycircuit,Aer.get_backend('statevector_simulator'))\n",
    "    current_quantum_state=job.result().get_statevector(mycircuit) \n",
    "    \n",
    "The result is a list of complex values, which are the amplitudes of the states.\n",
    "\n",
    "The real part of an amplitude (complex number) is obtained as follows:\n",
    "\n",
    "    current_quantum_state[1].real"
   ]
  },
  {
   "cell_type": "markdown",
   "metadata": {},
   "source": [
    "<h3> Task 4</h3>\n",
    "\n",
    "Create a quantum circuit with two qubits: qreg[0] and qreg[1].\n",
    "\n",
    "<i> Qiskit combines these two qubits as qreg[1]$\\otimes$qreg[0]. </i>\n",
    "\n",
    "Apply h-gate to qreg[0].\n",
    "\n",
    "Apply first x-gate and then a z-gate to qreg[1].\n",
    "\n",
    "Calculate the quantum states of both qubits and then the quantum state of composite system (qreg[1]$\\otimes$qreg[0]) on paper.\n",
    "\n",
    "Read quantum state of the quantum circuit.\n",
    "\n",
    "Compare your results."
   ]
  },
  {
   "cell_type": "code",
   "execution_count": 7,
   "metadata": {},
   "outputs": [
    {
     "name": "stdout",
     "output_type": "stream",
     "text": [
      "0.0\n",
      "0.0\n",
      "-0.7071\n",
      "-0.7071\n"
     ]
    }
   ],
   "source": [
    "#\n",
    "# your code is here\n",
    "from qiskit import QuantumRegister, ClassicalRegister, QuantumCircuit, execute, Aer\n",
    "from math import pi\n",
    "\n",
    "qreg =  QuantumRegister(2)\n",
    "creg = ClassicalRegister(2)\n",
    "mycircuit1 = QuantumCircuit(qreg,creg)\n",
    "\n",
    "mycircuit1.x(qreg[1])\n",
    "mycircuit1.z(qreg[1])\n",
    "mycircuit1.h(qreg[0])\n",
    "\n",
    "job = execute(mycircuit1,Aer.get_backend('statevector_simulator'))\n",
    "current_quantum_state=job.result().get_statevector(mycircuit1)\n",
    "\n",
    "for amplitude in current_quantum_state:\n",
    "    print( round(amplitude.real,4) )\n",
    "#\n"
   ]
  },
  {
   "cell_type": "code",
   "execution_count": 8,
   "metadata": {},
   "outputs": [
    {
     "name": "stdout",
     "output_type": "stream",
     "text": [
      "0 0 -0.7071 -0.7071\n"
     ]
    }
   ],
   "source": [
    "print(0,0,round(-1/(2**0.5),4),round(-1/(2**0.5),4)  )"
   ]
  },
  {
   "cell_type": "markdown",
   "metadata": {},
   "source": [
    "<a href=\"B38_Multiple_Qubits_Solutions.ipynb#task4\">click for our solution</a>"
   ]
  },
  {
   "cell_type": "markdown",
   "metadata": {},
   "source": [
    "Recall that the probabilities of observing state $\\ket{0}$ and state $\\ket{1}$ are the same when the system is in $ \\ket{u} $ or $ \\ket{u'} $.\n",
    "\n",
    "<img src=\"../images/Z_u.jpg\" width = \"40%\">\n",
    "\n",
    "By applying Hadamard to each of them, the probability of observing state $\\ket{0}$ and state $\\ket{1}$ may change.\n",
    "\n",
    "To observe such an effect, we can do a simple experiment. "
   ]
  },
  {
   "cell_type": "markdown",
   "metadata": {},
   "source": [
    "<h3> Task 5 </h3>\n",
    "\n",
    "Create a quantum circuit with 5 qubits.\n",
    "\n",
    "Apply h-gate (Hadamard operator) to each qubit.\n",
    "\n",
    "Apply z-gate ($Z$ operator) to randomly picked qubits. (i.e., $ mycircuit.z(qreg[i]) $)\n",
    "\n",
    "Apply h-gate to each qubit.\n",
    "\n",
    "Measure each qubit.\n",
    "\n",
    "Execute your program 1000 times.\n",
    "\n",
    "Compare the outcomes of the qubits affected by z-gates, and the outcomes of the qubits not affected by z-gates.\n",
    "\n",
    "Does z-gate change the outcome?\n",
    "\n",
    "Why?"
   ]
  },
  {
   "cell_type": "code",
   "execution_count": 13,
   "metadata": {},
   "outputs": [
    {
     "name": "stdout",
     "output_type": "stream",
     "text": [
      "Everything looks fine, let's continue ...\n"
     ]
    }
   ],
   "source": [
    "# import all necessary objects and methods for quantum circuits\n",
    "from qiskit import QuantumRegister, ClassicalRegister, QuantumCircuit, execute, Aer\n",
    "# import randrange for random choices\n",
    "from random import randrange\n",
    "\n",
    "number_of_qubit = 5\n",
    "\n",
    "# define a quantum register with 5 qubits\n",
    "qreg =  QuantumRegister(number_of_qubit)\n",
    "\n",
    "# define a classical register with 5 bits\n",
    "creg = ClassicalRegister(number_of_qubit)\n",
    "\n",
    "# define our quantum circuit\n",
    "mycircuit2 = QuantumCircuit(qreg,creg)\n",
    "\n",
    "# apply h-gate to all qubits\n",
    "for i in range(number_of_qubit):\n",
    "    mycircuit2.h(qreg[i])\n",
    "\n",
    "# apply z-gate to randomly picked qubits\n",
    "for i in range(number_of_qubit):\n",
    "    if randrange(2) == 0: # the qubit with index i is picked to apply z-gate\n",
    "        mycircuit2.z(qreg[i])\n",
    "        \n",
    "# apply h-gate to all qubits\n",
    "for i in range(number_of_qubit):\n",
    "    mycircuit2.h(qreg[i])\n",
    "    \n",
    "    \n",
    "# measure all qubits\n",
    "mycircuit2.measure(qreg,creg)\n",
    "\n",
    "print(\"Everything looks fine, let's continue ...\")"
   ]
  },
  {
   "cell_type": "code",
   "execution_count": 14,
   "metadata": {},
   "outputs": [
    {
     "data": {
      "text/html": [
       "<pre style=\"word-wrap: normal;white-space: pre;background: #fff0;line-height: 1.1;font-family: &quot;Courier New&quot;,Courier,monospace\">         ┌───┐┌───┐┌───┐   ┌─┐      \n",
       "q2_0: |0>┤ H ├┤ Z ├┤ H ├───┤M├──────\n",
       "         ├───┤├───┤└───┘┌─┐└╥┘      \n",
       "q2_1: |0>┤ H ├┤ H ├─────┤M├─╫───────\n",
       "         ├───┤├───┤┌───┐└╥┘ ║ ┌─┐   \n",
       "q2_2: |0>┤ H ├┤ Z ├┤ H ├─╫──╫─┤M├───\n",
       "         ├───┤├───┤├───┤ ║  ║ └╥┘┌─┐\n",
       "q2_3: |0>┤ H ├┤ Z ├┤ H ├─╫──╫──╫─┤M├\n",
       "         ├───┤├───┤└┬─┬┘ ║  ║  ║ └╥┘\n",
       "q2_4: |0>┤ H ├┤ H ├─┤M├──╫──╫──╫──╫─\n",
       "         └───┘└───┘ └╥┘  ║  ║  ║  ║ \n",
       " c2_0: 0 ════════════╬═══╬══╩══╬══╬═\n",
       "                     ║   ║     ║  ║ \n",
       " c2_1: 0 ════════════╬═══╩═════╬══╬═\n",
       "                     ║         ║  ║ \n",
       " c2_2: 0 ════════════╬═════════╩══╬═\n",
       "                     ║            ║ \n",
       " c2_3: 0 ════════════╬════════════╩═\n",
       "                     ║              \n",
       " c2_4: 0 ════════════╩══════════════\n",
       "                                    </pre>"
      ],
      "text/plain": [
       "<qiskit.visualization.text.TextDrawing at 0x26bb7e73848>"
      ]
     },
     "execution_count": 14,
     "metadata": {},
     "output_type": "execute_result"
    }
   ],
   "source": [
    "mycircuit2.draw()"
   ]
  },
  {
   "cell_type": "markdown",
   "metadata": {},
   "source": [
    "<a href=\"B38_Multiple_Qubits_Solutions.ipynb#task5\">click for our solution</a>"
   ]
  },
  {
   "cell_type": "code",
   "execution_count": 15,
   "metadata": {},
   "outputs": [
    {
     "name": "stdout",
     "output_type": "stream",
     "text": [
      "10110 is observed 1000 times\n"
     ]
    }
   ],
   "source": [
    "job = execute(mycircuit2,Aer.get_backend('qasm_simulator'),shots=1000)\n",
    "counts = job.result().get_counts(mycircuit2)\n",
    "for outcome in counts: # for each key-value in dictionary\n",
    "    reverse_outcome = ''\n",
    "    for i in outcome: # each string can be considered as a list of characters\n",
    "        reverse_outcome = i + reverse_outcome # each new symbol comes before the old symbol(s)\n",
    "    print(reverse_outcome,\"is observed\",counts[outcome],\"times\")"
   ]
  },
  {
   "cell_type": "markdown",
   "metadata": {},
   "source": [
    "<h3> Task 6 [Extra] </h3>\n",
    "\n",
    "Design a quantum circuit with 10 quantum bits and 10 classical bits.\n",
    "\n",
    "For each quantum bit, flip a coin by python, and apply x-gate if the outcome is head.\n",
    "\n",
    "Measure your quantum bits.\n",
    "\n",
    "Execute your circuit 128 times.\n",
    "\n",
    "Repeat this task as much as you want, and enjoy your random choices."
   ]
  },
  {
   "cell_type": "code",
   "execution_count": null,
   "metadata": {},
   "outputs": [],
   "source": [
    "# import all necessary objects and methods for quantum circuits\n",
    "from qiskit import QuantumRegister, ClassicalRegister, QuantumCircuit, execute, Aer\n",
    "# import randrange for random choices\n",
    "from random import randrange\n",
    "\n",
    "#\n",
    "# your code is here\n",
    "#"
   ]
  },
  {
   "cell_type": "markdown",
   "metadata": {},
   "source": [
    "<a href=\"B38_Multiple_Qubits_Solutions.ipynb#task6\">click for our solution</a>"
   ]
  }
 ],
 "metadata": {
  "kernelspec": {
   "display_name": "Python 3",
   "language": "python",
   "name": "python3"
  },
  "language_info": {
   "codemirror_mode": {
    "name": "ipython",
    "version": 3
   },
   "file_extension": ".py",
   "mimetype": "text/x-python",
   "name": "python",
   "nbconvert_exporter": "python",
   "pygments_lexer": "ipython3",
   "version": "3.7.4"
  }
 },
 "nbformat": 4,
 "nbformat_minor": 4
}
