{
 "cells": [
  {
   "cell_type": "markdown",
   "metadata": {},
   "source": [
    "<table>\n",
    "    <tr><td align=\"right\" style=\"background-color:#ffffff;\">\n",
    "        <img src=\"../images/logo.jpg\" width=\"20%\" align=\"right\">\n",
    "    </td></tr>\n",
    "    <tr><td align=\"right\" style=\"color.:#777777;background-color:#ffffff;font-size:12px;\">\n",
    "        Prepared by Abuzer Yakaryilmaz and Maksim Dimitrijev<br>\n",
    "        Özlem Salehi | December 4, 2019 (updated)\n",
    "    </td></tr>\n",
    "    <tr><td align=\"right\" style=\"color:#bbbbbb;background-color:#ffffff;font-size:11px;font-style:italic;\">\n",
    "        This cell contains some macros. If there is a problem with displaying mathematical formulas, please run this cell to load these macros.\n",
    "    </td></tr>\n",
    "</table>\n",
    "$ \\newcommand{\\bra}[1]{\\langle #1|} $\n",
    "$ \\newcommand{\\ket}[1]{|#1\\rangle} $\n",
    "$ \\newcommand{\\braket}[2]{\\langle #1|#2\\rangle} $\n",
    "$ \\newcommand{\\dot}[2]{ #1 \\cdot #2} $\n",
    "$ \\newcommand{\\biginner}[2]{\\left\\langle #1,#2\\right\\rangle} $\n",
    "$ \\newcommand{\\mymatrix}[2]{\\left( \\begin{array}{#1} #2\\end{array} \\right)} $\n",
    "$ \\newcommand{\\myvector}[1]{\\mymatrix{c}{#1}} $\n",
    "$ \\newcommand{\\myrvector}[1]{\\mymatrix{r}{#1}} $\n",
    "$ \\newcommand{\\mypar}[1]{\\left( #1 \\right)} $\n",
    "$ \\newcommand{\\mybigpar}[1]{ \\Big( #1 \\Big)} $\n",
    "$ \\newcommand{\\sqrttwo}{\\frac{1}{\\sqrt{2}}} $\n",
    "$ \\newcommand{\\dsqrttwo}{\\dfrac{1}{\\sqrt{2}}} $\n",
    "$ \\newcommand{\\onehalf}{\\frac{1}{2}} $\n",
    "$ \\newcommand{\\donehalf}{\\dfrac{1}{2}} $\n",
    "$ \\newcommand{\\hadamard}{ \\mymatrix{rr}{ \\sqrttwo & \\sqrttwo \\\\ \\sqrttwo & -\\sqrttwo }} $\n",
    "$ \\newcommand{\\vzero}{\\myvector{1\\\\0}} $\n",
    "$ \\newcommand{\\vone}{\\myvector{0\\\\1}} $\n",
    "$ \\newcommand{\\vhadamardzero}{\\myvector{ \\sqrttwo \\\\  \\sqrttwo } } $\n",
    "$ \\newcommand{\\vhadamardone}{ \\myrvector{ \\sqrttwo \\\\ -\\sqrttwo } } $\n",
    "$ \\newcommand{\\myarray}[2]{ \\begin{array}{#1}#2\\end{array}} $\n",
    "$ \\newcommand{\\X}{ \\mymatrix{cc}{0 & 1 \\\\ 1 & 0}  } $\n",
    "$ \\newcommand{\\Z}{ \\mymatrix{rr}{1 & 0 \\\\ 0 & -1}  } $\n",
    "$ \\newcommand{\\Htwo}{ \\mymatrix{rrrr}{ \\frac{1}{2} & \\frac{1}{2} & \\frac{1}{2} & \\frac{1}{2} \\\\ \\frac{1}{2} & -\\frac{1}{2} & \\frac{1}{2} & -\\frac{1}{2} \\\\ \\frac{1}{2} & \\frac{1}{2} & -\\frac{1}{2} & -\\frac{1}{2} \\\\ \\frac{1}{2} & -\\frac{1}{2} & -\\frac{1}{2} & \\frac{1}{2} } } $\n",
    "$ \\newcommand{\\CNOT}{ \\mymatrix{cccc}{1 & 0 & 0 & 0 \\\\ 0 & 1 & 0 & 0 \\\\ 0 & 0 & 0 & 1 \\\\ 0 & 0 & 1 & 0} } $\n",
    "$ \\newcommand{\\norm}[1]{ \\left\\lVert #1 \\right\\rVert } $"
   ]
  },
  {
   "cell_type": "markdown",
   "metadata": {},
   "source": [
    "<h2> <font color=\"blue\"> Solutions for </font> Controlled Operators</h2>"
   ]
  },
  {
   "cell_type": "markdown",
   "metadata": {},
   "source": [
    "<a id=\"task1\"></a>\n",
    "<h3>Task 1</h3>\n",
    "\n",
    "Our task is to learn the behavior of the following quantum circuit by doing experiments.\n",
    "\n",
    "Our circuit has two qubits. \n",
    "<ul>\n",
    "    <li> Apply Hadamard to both qubits.\n",
    "    <li> Apply CNOT(qreg[1] is the control,qreg[0] is the target).\n",
    "    <li> Apply Hadamard to both qubits.\n",
    "    <li> Measure the circuit.\n",
    "</ul>\n",
    "\n",
    "Iteratively initialize  the qubits to $ \\ket{00} $, $ \\ket{01} $, $ \\ket{10} $, and $ \\ket{11} $.\n",
    "\n",
    "Execute your program 100 times for each iteration, and then check the outcomes for each iteration. \n",
    "\n",
    "Observe that the overall circuit implements CNOT(qreg[0] is the control, qreg[1] is the target)."
   ]
  },
  {
   "cell_type": "markdown",
   "metadata": {},
   "source": [
    "<h3> Solution </h3>"
   ]
  },
  {
   "cell_type": "code",
   "execution_count": null,
   "metadata": {},
   "outputs": [],
   "source": [
    "# import all necessary objects and methods for quantum circuits\n",
    "from qiskit import QuantumRegister, ClassicalRegister, QuantumCircuit, execute, Aer\n",
    "\n",
    "all_inputs=['00','01','10','11']\n",
    "\n",
    "for input in all_inputs:\n",
    "    qreg1 =  QuantumRegister(2) # quantum register with 2 qubits\n",
    "    creg1 = ClassicalRegister(2) # classical register with 2 bits\n",
    "    mycircuit1 = QuantumCircuit(qreg1,creg1) # quantum circuit with quantum and classical registers\n",
    "    \n",
    "    #initialize the inputs\n",
    "    if input[0]=='1':\n",
    "        mycircuit1.x(qreg1[1]) # set the state of the qubit to |1>\n",
    "    if input[1]=='1':\n",
    "        mycircuit1.x(qreg1[0]) # set the state of the qubit to |1>\n",
    "\n",
    "    # apply h-gate to both qubits\n",
    "    mycircuit1.h(qreg1[0])\n",
    "    mycircuit1.h(qreg1[1])\n",
    "\n",
    "    # apply cx\n",
    "    mycircuit1.cx(qreg1[1],qreg1[0])\n",
    "\n",
    "    # apply h-gate to both qubits\n",
    "    mycircuit1.h(qreg1[0])\n",
    "    mycircuit1.h(qreg1[1])\n",
    "\n",
    "    # measure both qubits\n",
    "    mycircuit1.measure(qreg1,creg1)\n",
    "    \n",
    "    # execute the circuit 100 times in the local simulator\n",
    "    job = execute(mycircuit1,Aer.get_backend('qasm_simulator'),shots=100)\n",
    "    counts = job.result().get_counts(mycircuit1)\n",
    "    for outcome in counts: # print the reverse of the outcomes\n",
    "        print(\"our input is\",input,\": \",outcome,\"is observed\",counts[outcome],\"times\")"
   ]
  },
  {
   "cell_type": "markdown",
   "metadata": {},
   "source": [
    "<a id=\"task2\"></a>\n",
    "<h3>Task 2</h3>\n",
    "\n",
    "Our task is to learn the behavior of the following quantum circuit by doing experiments.\n",
    "\n",
    "Our circuit has two qubits. \n",
    "<ul>\n",
    "    <li> Apply CNOT(qreg[1] is the control, qreg[0] is the target).\n",
    "    <li> Apply CNOT(qreg[0] is the control, qreg[1] is the target).\n",
    "    <li> Apply CNOT(qreg[0] is the control, qreg[1] is the target).\n",
    "</ul>\n",
    "\n",
    "Iteratively initialize  the qubits to $ \\ket{00} $, $ \\ket{01} $, $ \\ket{10} $, and $ \\ket{11} $.\n",
    "\n",
    "Execute your program 100 times for each iteration, and then check the outcomes for each iteration. \n",
    "\n",
    "Observe that the overall circuit swaps the values of the two qubits:\n",
    "<ul>\n",
    "    <li> $\\ket{00} \\rightarrow \\ket{00} $ </li>\n",
    "    <li> $\\ket{01} \\rightarrow \\ket{10} $ </li>\n",
    "    <li> $\\ket{10} \\rightarrow \\ket{01} $ </li>\n",
    "    <li> $\\ket{11} \\rightarrow \\ket{11} $ </li>\n",
    "</ul>"
   ]
  },
  {
   "cell_type": "markdown",
   "metadata": {},
   "source": [
    "<h3> Solution </h3>"
   ]
  },
  {
   "cell_type": "code",
   "execution_count": null,
   "metadata": {},
   "outputs": [],
   "source": [
    "# import all necessary objects and methods for quantum circuits\n",
    "from qiskit import QuantumRegister, ClassicalRegister, QuantumCircuit, execute, Aer\n",
    "\n",
    "all_inputs=['00','01','10','11']\n",
    "\n",
    "for input in all_inputs:\n",
    "    qreg2 =  QuantumRegister(2) # quantum register with 2 qubits\n",
    "    creg2 = ClassicalRegister(2) # classical register with 2 bits\n",
    "    mycircuit2 = QuantumCircuit(qreg2,creg2) # quantum circuit with quantum and classical registers\n",
    "    \n",
    "    #initialize the inputs\n",
    "    if input[0]=='1':\n",
    "        mycircuit2.x(qreg2[1]) # set the value of the qubit to |1>\n",
    "    if input[1]=='1':\n",
    "        mycircuit2.x(qreg2[0]) # set the value of the qubit to |1>\n",
    "\n",
    "    # apply cx(qreg2[0] is the target)\n",
    "    mycircuit2.cx(qreg2[1],qreg2[0])\n",
    "    # apply cx(qreg2[1] is the target)\n",
    "    mycircuit2.cx(qreg2[0],qreg2[1])\n",
    "    # apply cx(qreg2[0] is the target)\n",
    "    mycircuit2.cx(qreg2[1],qreg2[0])\n",
    "    \n",
    "    mycircuit2.measure(qreg2,creg2)\n",
    "    \n",
    "    # execute the circuit 100 times in the local simulator\n",
    "    job = execute(mycircuit2,Aer.get_backend('qasm_simulator'),shots=100)\n",
    "    counts = job.result().get_counts(mycircuit2)\n",
    "    for outcome in counts: # print the reverse of the outcomes\n",
    "        print(\"our input is\",input,\": \",outcome,\"is observed\",counts[outcome],\"times\")"
   ]
  },
  {
   "cell_type": "markdown",
   "metadata": {},
   "source": [
    "<a id=\"task3\"></a>\n",
    "<h3> Task 3 [Extra]</h3>\n",
    "\n",
    "Create a quantum curcuit with $ n=5 $ qubits.\n",
    "\n",
    "Set each qubit to $ \\ket{1} $.\n",
    "\n",
    "Repeat 4 times:\n",
    "<ul>\n",
    "    <li>Randomly pick a pair of qubits, and apply cx-gate (CNOT operator) on the pair.</li>\n",
    "</ul>\n",
    "\n",
    "Draw your circuit, and execute your program 100 times.\n",
    "\n",
    "Verify your measurement results by checking the diagram of the circuit. "
   ]
  },
  {
   "cell_type": "markdown",
   "metadata": {},
   "source": [
    "<h3> Solution </h3>"
   ]
  },
  {
   "cell_type": "code",
   "execution_count": 1,
   "metadata": {},
   "outputs": [
    {
     "name": "stdout",
     "output_type": "stream",
     "text": [
      "the indices of the controller and target qubits are 2 3\n",
      "the indices of the controller and target qubits are 3 0\n",
      "the indices of the controller and target qubits are 3 4\n",
      "the indices of the controller and target qubits are 1 0\n",
      "Everything looks fine, let's continue ...\n"
     ]
    }
   ],
   "source": [
    "# import all necessary objects and methods for quantum circuits\n",
    "from qiskit import QuantumRegister, ClassicalRegister, QuantumCircuit, execute, Aer\n",
    "# import randrange for random choices\n",
    "from random import randrange\n",
    "\n",
    "n = 5\n",
    "m = 4\n",
    "\n",
    "states_of_qubits = [] # we trace the state of each qubit also by ourselves\n",
    "\n",
    "qreg3 =  QuantumRegister(n) # quantum register with n qubits\n",
    "creg3 =  ClassicalRegister(n) # classical register with n bits\n",
    "\n",
    "mycircuit3 = QuantumCircuit(qreg3,creg3) # quantum circuit with quantum and classical registers\n",
    "\n",
    "# set each qubit to |1>\n",
    "for i in range(n):\n",
    "    mycircuit3.x(qreg3[i]) # apply x-gate (NOT operator)\n",
    "    states_of_qubits.append(1) # the state of each qubit is set to 1\n",
    "    \n",
    "# randomly pick m pairs of qubits\n",
    "for i in range(m):\n",
    "    controller_qubit = randrange(n)\n",
    "    target_qubit = randrange(n)\n",
    "    # controller and target qubits should be different\n",
    "    while controller_qubit == target_qubit: # if they are the same, we pick the target_qubit again\n",
    "        target_qubit = randrange(n)\n",
    "    # print our picked qubits\n",
    "    print(\"the indices of the controller and target qubits are\",controller_qubit,target_qubit)\n",
    "    # apply cx-gate (CNOT operator)\n",
    "    mycircuit3.cx(qreg3[controller_qubit],qreg3[target_qubit])\n",
    "    # we also trace the results\n",
    "    if states_of_qubits[controller_qubit] == 1: # if the value of the controller qubit is 1,\n",
    "        states_of_qubits[target_qubit] = 1 - states_of_qubits[target_qubit] # then flips the value of the target qubit \n",
    "        # remark that 1-x gives the negation of x\n",
    "    \n",
    "\n",
    "# measure the quantum register\n",
    "mycircuit3.measure(qreg3,creg3)\n",
    "\n",
    "print(\"Everything looks fine, let's continue ...\")"
   ]
  },
  {
   "cell_type": "code",
   "execution_count": 2,
   "metadata": {},
   "outputs": [
    {
     "data": {
      "image/png": "[encoded data removed]",
      "text/plain": [
       "<Figure size 709.156x385.28 with 1 Axes>"
      ]
     },
     "execution_count": 2,
     "metadata": {},
     "output_type": "execute_result"
    }
   ],
   "source": [
    "# draw the circuit\n",
    "\n",
    "mycircuit3.draw(output='mpl')\n",
    "# re-execute this cell if you DO NOT see the circuit diagram"
   ]
  },
  {
   "cell_type": "markdown",
   "metadata": {},
   "source": [
    "<a id=\"task4\"></a>\n",
    "<h3> Task 4 </h3>\n",
    "\n",
    "In this task, our aim is to create an operator which will apply the NOT operator to the target qubit qreg[0] when the control qubit qreg[1] is in state $\\ket{0}$. In other words, we want to obtain the following operator:\n",
    "\n",
    "$\\mymatrix{cccc}{0 & 1 & 0 & 0 \\\\ 1 & 0 & 0 & 0 \\\\ 0 & 0 & 1 & 0 \\\\ 0 & 0 & 0 & 1}$.\n",
    "\n",
    "We can summarize its effect as follows:\n",
    "<ul>\n",
    "    <li>$  \\ket{00} \\rightarrow \\ket{01} $, </li>\n",
    "    <li>$  \\ket{01} \\rightarrow \\ket{00} $, </li>\n",
    "    <li>$  \\ket{10} \\rightarrow \\ket{10} $, </li>\n",
    "    <li>$  \\ket{11} \\rightarrow \\ket{11} $. </li>\n",
    "</ul>\n",
    "\n",
    "Write a function named c0x which takes the circuit name and the register as parameters to implement the operator and check using the code given below.\n",
    "<ul>\n",
    "    <li>Apply NOT operator to qreg[1];</li>\n",
    "    <li>Apply CNOT operator, where qreg[1] is control and qreg[0] is target;</li>\n",
    "    <li>Apply NOT operator to qreg[1] - to revert it to the initial state.</li>\n",
    "</ul>"
   ]
  },
  {
   "cell_type": "markdown",
   "metadata": {},
   "source": [
    "<b>Idea:</b> We can use our regular CNOT operator, and to change the condition for the control qubit we can apply NOT operator to it before the CNOT - this way the NOT operator will be applied to the target qubit when initially the state of the control qubit was $\\ket{0}$.\n",
    "\n",
    "Although this trick is quite simple, this approach is important and will be very useful in our following implementations."
   ]
  },
  {
   "cell_type": "markdown",
   "metadata": {},
   "source": [
    "<h3>Solution:</h3>"
   ]
  },
  {
   "cell_type": "code",
   "execution_count": 3,
   "metadata": {},
   "outputs": [],
   "source": [
    "def c0x(mycircuit,qreg):\n",
    "\n",
    "    mycircuit.x(qreg[1])\n",
    "\n",
    "    # Apply CNOT where qreg[0] is the target\n",
    "    mycircuit.cx(qreg[1],qreg[0])\n",
    "\n",
    "    # Returning control qubit to the initial state\n",
    "    mycircuit.x(qreg[1])"
   ]
  },
  {
   "cell_type": "code",
   "execution_count": 10,
   "metadata": {},
   "outputs": [
    {
     "name": "stdout",
     "output_type": "stream",
     "text": [
      "  0.0  1.0  0.0  0.0\n",
      "  1.0  0.0  0.0  0.0\n",
      "  0.0  0.0  1.0  0.0\n",
      "  0.0  0.0  0.0  1.0\n"
     ]
    },
    {
     "data": {
      "image/png": "[encoded data removed]",
      "text/plain": [
       "<Figure size 347.956x204.68 with 1 Axes>"
      ]
     },
     "execution_count": 10,
     "metadata": {},
     "output_type": "execute_result"
    }
   ],
   "source": [
    "from qiskit import QuantumRegister, ClassicalRegister, QuantumCircuit, execute, Aer\n",
    "\n",
    "qreg4 =  QuantumRegister(2)\n",
    "creg4 = ClassicalRegister(2)\n",
    "\n",
    "mycircuit4 = QuantumCircuit(qreg4,creg4)\n",
    "\n",
    "#We apply the operator c0x by calling the function\n",
    "c0x(mycircuit4,qreg4)\n",
    "\n",
    "job = execute(mycircuit4,Aer.get_backend('unitary_simulator'))\n",
    "u=job.result().get_unitary(mycircuit4,decimals=3)\n",
    "for i in range(len(u)):\n",
    "    s=\"\"\n",
    "    for j in range(len(u)):\n",
    "        val = str(u[i][j].real)\n",
    "        while(len(val)<5): val  = \" \"+val\n",
    "        s = s + val\n",
    "    print(s)\n",
    "\n",
    "mycircuit4.draw(output=\"mpl\")"
   ]
  },
  {
   "cell_type": "markdown",
   "metadata": {},
   "source": [
    "<a id=\"task5\"></a>\n",
    "<h3>Task 5</h3>\n",
    "\n",
    "You have a circuit with three qubits. Apply NOT operator to qreg[1] if qreg[0] is in state 0 and qreg[2] is in state 1. Check its efffect on different inputs."
   ]
  },
  {
   "cell_type": "markdown",
   "metadata": {},
   "source": [
    "<h3>Solution</h3>"
   ]
  },
  {
   "cell_type": "code",
   "execution_count": 11,
   "metadata": {},
   "outputs": [
    {
     "name": "stdout",
     "output_type": "stream",
     "text": [
      "our input is 000 :  000 is observed 100 times\n",
      "our input is 001 :  001 is observed 100 times\n",
      "our input is 010 :  010 is observed 100 times\n",
      "our input is 011 :  011 is observed 100 times\n",
      "our input is 100 :  110 is observed 100 times\n",
      "our input is 101 :  101 is observed 100 times\n",
      "our input is 110 :  100 is observed 100 times\n",
      "our input is 111 :  111 is observed 100 times\n"
     ]
    }
   ],
   "source": [
    "from qiskit import QuantumRegister, ClassicalRegister, QuantumCircuit, execute, Aer\n",
    "\n",
    "all_inputs=['000','001','010','011','100','101','110','111']\n",
    "\n",
    "for input in all_inputs:\n",
    "    qreg5 =  QuantumRegister(3) # quantum register with 3 qubits\n",
    "    creg5 = ClassicalRegister(3) # classical register with 3 bits\n",
    "    mycircuit5 = QuantumCircuit(qreg5,creg5) # quantum circuit with quantum and classical registers\n",
    "    \n",
    "    #initialize the inputs\n",
    "    if input[0]=='1':\n",
    "        mycircuit5.x(qreg5[2]) # set the state of the first qubit to |1>\n",
    "    if input[1]=='1':\n",
    "        mycircuit5.x(qreg5[1]) # set the state of the second qubit to |1>\n",
    "    if input[2]=='1':\n",
    "        mycircuit5.x(qreg5[0]) # set the state of the third qubit to |1>\n",
    "\n",
    "    mycircuit5.x(qreg5[0])\n",
    "\n",
    "    mycircuit5.ccx(qreg5[2],qreg5[0],qreg5[1])\n",
    "\n",
    "    #Set back to initial value\n",
    "    mycircuit5.x(qreg5[0])\n",
    "\n",
    "\n",
    "# measure the qubits\n",
    "    mycircuit5.measure(qreg5,creg5)\n",
    "    \n",
    "    # execute the circuit 100 times in the local simulator\n",
    "    job = execute(mycircuit5,Aer.get_backend('qasm_simulator'),shots=100)\n",
    "    counts = job.result().get_counts(mycircuit5)\n",
    "    for outcome in counts: # print the reverse of the outcomes\n",
    "        print(\"our input is\",input,\": \",outcome,\"is observed\",counts[outcome],\"times\")"
   ]
  },
  {
   "cell_type": "markdown",
   "metadata": {},
   "source": [
    "<a id=\"task6\"></a>\n",
    "<h3> Task 6 </h3>\n",
    "\n",
    "Implement the NOT operator controlled by 4 qubits where qreg[0] is the target and apply it iteratively to all possible states. Note that you will need additional qubits."
   ]
  },
  {
   "cell_type": "markdown",
   "metadata": {},
   "source": [
    "<h3>Solution</h3>"
   ]
  },
  {
   "cell_type": "code",
   "execution_count": null,
   "metadata": {},
   "outputs": [],
   "source": [
    "def ccccx(mycircuit,qreg):\n",
    "    mycircuit.ccx(qreg[4],qreg[3],qreg[5])\n",
    "    mycircuit.ccx(qreg[2],qreg[1],qreg[6])\n",
    "\n",
    "    mycircuit.ccx(qreg[5],qreg[6],qreg[0])\n",
    "\n",
    "    # Returning additional qubits to the initial state\n",
    "    mycircuit.ccx(qreg[2],qreg[1],qreg[6])\n",
    "    mycircuit.ccx(qreg[4],qreg[3],qreg[5])"
   ]
  },
  {
   "cell_type": "code",
   "execution_count": null,
   "metadata": {},
   "outputs": [],
   "source": [
    "# import all necessary objects and methods for quantum circuits\n",
    "from qiskit import QuantumRegister, ClassicalRegister, QuantumCircuit, execute, Aer\n",
    "\n",
    "\n",
    "all_inputs=['00000','00001','00010','00011','00100','00101','00110','00111','00000',\n",
    "            '01001','01010','01011','01100','01101','01110','01111','10000','10001',\n",
    "            '10010','10011','10100','10101','10110','10111','10000','11001','11010',\n",
    "            '11011','11100','11101','11110','11111']\n",
    "\n",
    "for input in all_inputs:\n",
    "    qreg6 =  QuantumRegister(7) # quantum register with 7 qubits\n",
    "    creg6 = ClassicalRegister(7) # classical register with 7 bits\n",
    "    mycircuit6 = QuantumCircuit(qreg6,creg6) # quantum circuit with quantum and classical registers\n",
    "    \n",
    "    #initialize the inputs\n",
    "    if input[0]=='1':\n",
    "        mycircuit6.x(qreg6[4]) # set the state of the first qubit to |1>\n",
    "    if input[1]=='1':\n",
    "        mycircuit6.x(qreg6[3]) # set the state of the second qubit to |1>\n",
    "    if input[2]=='1':\n",
    "        mycircuit6.x(qreg6[2]) # set the state of the third qubit to |1>\n",
    "    if input[3]=='1':\n",
    "        mycircuit6.x(qreg6[1]) # set the state of the fourth qubit to |1>\n",
    "    if input[4]=='1':\n",
    "        mycircuit6.x(qreg6[0]) # set the state of the fifth qubit to |1>\n",
    "\n",
    "    ccccx(mycircuit6,qreg6)\n",
    "\n",
    "    mycircuit6.measure(qreg6,creg6)\n",
    "\n",
    "    job = execute(mycircuit6,Aer.get_backend('qasm_simulator'),shots=10000)\n",
    "    counts = job.result().get_counts(mycircuit6)\n",
    "    for outcome in counts: # print the reverse of the outcomes\n",
    "        print(\"our input is\",input,\": \",outcome,\"is observed\",counts[outcome],\"times\")"
   ]
  },
  {
   "cell_type": "markdown",
   "metadata": {},
   "source": [
    "<a id=\"task7\"></a>\n",
    "<h3>Task 7</h3>\n",
    "\n",
    "Implement the following control: the NOT operator is applied to the target qubit qreg[0] if 5 control qubits qreg[5] to qreg[1] are initially in the state $\\ket{10101}$. Check your operator by trying different initial states. You may define a function or write your code directly."
   ]
  },
  {
   "cell_type": "markdown",
   "metadata": {},
   "source": [
    "<h3>Solution</h3>"
   ]
  },
  {
   "cell_type": "code",
   "execution_count": null,
   "metadata": {},
   "outputs": [],
   "source": [
    "# import all necessary objects and methods for quantum circuits\n",
    "from qiskit import QuantumRegister, ClassicalRegister, QuantumCircuit, execute, Aer\n",
    "\n",
    "#Try different initial states\n",
    "all_inputs=['101010','101011','100000','111111']\n",
    "\n",
    "for input in all_inputs:\n",
    "    qreg7 =  QuantumRegister(9) # quantum register with 9 qubits\n",
    "    creg7 = ClassicalRegister(9) # classical register with 9 bits\n",
    "    mycircuit7 = QuantumCircuit(qreg7,creg7) # quantum circuit with quantum and classical registers\n",
    "    \n",
    "    #initialize the inputs\n",
    "    if input[0]=='1':\n",
    "        mycircuit7.x(qreg7[5]) # set the state of the first qubit to |1>\n",
    "    if input[1]=='1':\n",
    "        mycircuit7.x(qreg7[4]) # set the state of the second qubit to |1>\n",
    "    if input[2]=='1':\n",
    "        mycircuit7.x(qreg7[3]) # set the state of the third qubit to |1>\n",
    "    if input[3]=='1':\n",
    "        mycircuit7.x(qreg7[2]) # set the state of the fourth qubit to |1>\n",
    "    if input[4]=='1':\n",
    "        mycircuit7.x(qreg7[1]) # set the state of the fifth qubit to |1>\n",
    "    if input[5]=='1':\n",
    "        mycircuit7.x(qreg7[0]) # set the state of the fifth qubit to |1>\n",
    "\n",
    "    mycircuit7.x(qreg7[4])\n",
    "    mycircuit7.x(qreg7[2])\n",
    "\n",
    "    mycircuit7.ccx(qreg7[1],qreg7[2],qreg7[6])\n",
    "    mycircuit7.ccx(qreg7[3],qreg7[4],qreg7[7])\n",
    "    mycircuit7.ccx(qreg7[6],qreg7[7],qreg7[8])\n",
    "\n",
    "    mycircuit7.ccx(qreg7[5],qreg7[8],qreg7[0])\n",
    "\n",
    "    # Returning additional and control qubits to the initial state\n",
    "    mycircuit7.ccx(qreg7[6],qreg7[7],qreg7[8])\n",
    "    mycircuit7.ccx(qreg7[3],qreg7[4],qreg7[7])\n",
    "    mycircuit7.ccx(qreg7[1],qreg7[2],qreg7[6])\n",
    "\n",
    "    mycircuit7.x(qreg7[4])\n",
    "    mycircuit7.x(qreg7[2])\n",
    "\n",
    "    mycircuit7.measure(qreg7,creg7)\n",
    "\n",
    "    job = execute(mycircuit7,Aer.get_backend('qasm_simulator'),shots=10000)\n",
    "    counts = job.result().get_counts(mycircuit7)\n",
    "    for outcome in counts: # print the reverse of the outcomes\n",
    "        print(\"our input is\",input,\": \",outcome,\"is observed\",counts[outcome],\"times\")"
   ]
  },
  {
   "cell_type": "markdown",
   "metadata": {},
   "source": [
    "<a id=\"task8\"></a>\n",
    "<h3>Task 8 (Optional)</h3>\n",
    "\n",
    "Implement the parametrized controlled NOT operator with 4 control qubits, where parameter will be the state of control qubits for which NOT operator will be applied to the target qubit.\n",
    "\n",
    "As a result you need to define the following function: <i>control(circuit,quantum_reg,number)</i>, where:\n",
    "<ul>\n",
    "    <li><i>circuit</i> allows to pass the quantum circuit;</li>\n",
    "    <li><i>quantum_reg</i> allows to pass the quantum register;</li>\n",
    "    <li><i>state</i> is the state of control qubits, between 0 and 15, where 0 corresponds to 0000 and 15 corresponds to 1111 (like binary numbers :) ).</li>\n",
    "</ul>"
   ]
  },
  {
   "cell_type": "markdown",
   "metadata": {},
   "source": [
    "<h3>Solution</h3>"
   ]
  },
  {
   "cell_type": "code",
   "execution_count": null,
   "metadata": {},
   "outputs": [],
   "source": [
    "#state - the state of control qubits, between 0 and 15.\n",
    "def control(circuit,quantum_reg,state):\n",
    "    if(state%2 == 0):\n",
    "        circuit.x(quantum_reg[1])\n",
    "    if(state%4 < 2):\n",
    "        circuit.x(quantum_reg[2])\n",
    "    if(state%8 < 4):\n",
    "        circuit.x(quantum_reg[3])\n",
    "    if(state < 8):\n",
    "        circuit.x(quantum_reg[4])\n",
    "    circuit.ccx(quantum_reg[1],quantum_reg[2],quantum_reg[5])\n",
    "    circuit.ccx(quantum_reg[3],quantum_reg[4],quantum_reg[6])\n",
    "    circuit.ccx(quantum_reg[5],quantum_reg[6],quantum_reg[0])\n",
    "    circuit.ccx(quantum_reg[3],quantum_reg[4],quantum_reg[6])\n",
    "    circuit.ccx(quantum_reg[1],quantum_reg[2],quantum_reg[5])\n",
    "    if(state < 8):\n",
    "        circuit.x(quantum_reg[4])\n",
    "    if(state%8 < 4):\n",
    "        circuit.x(quantum_reg[3])\n",
    "    if(state%4 < 2):\n",
    "        circuit.x(quantum_reg[2])\n",
    "    if(state%2 == 0):\n",
    "        circuit.x(quantum_reg[1])"
   ]
  },
  {
   "cell_type": "markdown",
   "metadata": {},
   "source": [
    "You can try different inputs to see that your function is implementing the mentioned control operation."
   ]
  },
  {
   "cell_type": "code",
   "execution_count": null,
   "metadata": {},
   "outputs": [],
   "source": [
    "#Try different initial states\n",
    "all_inputs=['01010','01011','10000','11111']\n",
    "\n",
    "for input in all_inputs:\n",
    "    qreg8 =  QuantumRegister(7) # quantum register with 7 qubits\n",
    "    creg8 = ClassicalRegister(7) # classical register with 7 bits\n",
    "    mycircuit8 = QuantumCircuit(qreg8,creg8) # quantum circuit with quantum and classical registers\n",
    "    \n",
    "    #initialize the inputs\n",
    "    if input[0]=='1':\n",
    "        mycircuit8.x(qreg8[4]) # set the state of the first qubit to |1>\n",
    "    if input[1]=='1':\n",
    "        mycircuit8.x(qreg8[3]) # set the state of the second qubit to |1>\n",
    "    if input[2]=='1':\n",
    "        mycircuit8.x(qreg8[2]) # set the state of the third qubit to |1>\n",
    "    if input[3]=='1':\n",
    "        mycircuit8.x(qreg8[1]) # set the state of the fourth qubit to |1>\n",
    "    if input[4]=='1':\n",
    "        mycircuit8.x(qreg8[0]) # set the state of the fifth qubit to |1>\n",
    "\n",
    "\n",
    "    control(mycircuit8,qreg8,5)\n",
    "    mycircuit8.measure(qreg8,creg8)\n",
    "\n",
    "    job = execute(mycircuit8,Aer.get_backend('qasm_simulator'),shots=10000)\n",
    "    counts = job.result().get_counts(mycircuit8)\n",
    "    for outcome in counts: # print the reverse of the outcomes\n",
    "        print(\"our input is\",input,\": \",outcome,\"is observed\",counts[outcome],\"times\")"
   ]
  }
 ],
 "metadata": {
  "kernelspec": {
   "display_name": "Python 3",
   "language": "python",
   "name": "python3"
  },
  "language_info": {
   "codemirror_mode": {
    "name": "ipython",
    "version": 3
   },
   "file_extension": ".py",
   "mimetype": "text/x-python",
   "name": "python",
   "nbconvert_exporter": "python",
   "pygments_lexer": "ipython3",
   "version": "3.7.4"
  }
 },
 "nbformat": 4,
 "nbformat_minor": 4
}
