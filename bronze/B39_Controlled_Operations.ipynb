{
 "cells": [
  {
   "cell_type": "markdown",
   "metadata": {},
   "source": [
    "<table>\n",
    "    <tr><td align=\"right\" style=\"background-color:#ffffff;\">\n",
    "        <img src=\"../images/logo.jpg\" width=\"20%\" align=\"right\">\n",
    "    </td></tr>\n",
    "    <tr><td align=\"right\" style=\"color.:#777777;background-color:#ffffff;font-size:12px;\">\n",
    "        Prepared by Abuzer Yakaryilmaz and Maksim Dimitrijev<br>\n",
    "        Özlem Salehi | December 4, 2019 (updated)\n",
    "    </td></tr>\n",
    "    <tr><td align=\"right\" style=\"color:#bbbbbb;background-color:#ffffff;font-size:11px;font-style:italic;\">\n",
    "        This cell contains some macros. If there is a problem with displaying mathematical formulas, please run this cell to load these macros.\n",
    "    </td></tr>\n",
    "</table>\n",
    "$ \\newcommand{\\bra}[1]{\\langle #1|} $\n",
    "$ \\newcommand{\\ket}[1]{|#1\\rangle} $\n",
    "$ \\newcommand{\\braket}[2]{\\langle #1|#2\\rangle} $\n",
    "$ \\newcommand{\\dot}[2]{ #1 \\cdot #2} $\n",
    "$ \\newcommand{\\biginner}[2]{\\left\\langle #1,#2\\right\\rangle} $\n",
    "$ \\newcommand{\\mymatrix}[2]{\\left( \\begin{array}{#1} #2\\end{array} \\right)} $\n",
    "$ \\newcommand{\\myvector}[1]{\\mymatrix{c}{#1}} $\n",
    "$ \\newcommand{\\myrvector}[1]{\\mymatrix{r}{#1}} $\n",
    "$ \\newcommand{\\mypar}[1]{\\left( #1 \\right)} $\n",
    "$ \\newcommand{\\mybigpar}[1]{ \\Big( #1 \\Big)} $\n",
    "$ \\newcommand{\\sqrttwo}{\\frac{1}{\\sqrt{2}}} $\n",
    "$ \\newcommand{\\dsqrttwo}{\\dfrac{1}{\\sqrt{2}}} $\n",
    "$ \\newcommand{\\onehalf}{\\frac{1}{2}} $\n",
    "$ \\newcommand{\\donehalf}{\\dfrac{1}{2}} $\n",
    "$ \\newcommand{\\hadamard}{ \\mymatrix{rr}{ \\sqrttwo & \\sqrttwo \\\\ \\sqrttwo & -\\sqrttwo }} $\n",
    "$ \\newcommand{\\vzero}{\\myvector{1\\\\0}} $\n",
    "$ \\newcommand{\\vone}{\\myvector{0\\\\1}} $\n",
    "$ \\newcommand{\\vhadamardzero}{\\myvector{ \\sqrttwo \\\\  \\sqrttwo } } $\n",
    "$ \\newcommand{\\vhadamardone}{ \\myrvector{ \\sqrttwo \\\\ -\\sqrttwo } } $\n",
    "$ \\newcommand{\\myarray}[2]{ \\begin{array}{#1}#2\\end{array}} $\n",
    "$ \\newcommand{\\X}{ \\mymatrix{cc}{0 & 1 \\\\ 1 & 0}  } $\n",
    "$ \\newcommand{\\Z}{ \\mymatrix{rr}{1 & 0 \\\\ 0 & -1}  } $\n",
    "$ \\newcommand{\\Htwo}{ \\mymatrix{rrrr}{ \\frac{1}{2} & \\frac{1}{2} & \\frac{1}{2} & \\frac{1}{2} \\\\ \\frac{1}{2} & -\\frac{1}{2} & \\frac{1}{2} & -\\frac{1}{2} \\\\ \\frac{1}{2} & \\frac{1}{2} & -\\frac{1}{2} & -\\frac{1}{2} \\\\ \\frac{1}{2} & -\\frac{1}{2} & -\\frac{1}{2} & \\frac{1}{2} } } $\n",
    "$ \\newcommand{\\CNOT}{ \\mymatrix{cccc}{1 & 0 & 0 & 0 \\\\ 0 & 1 & 0 & 0 \\\\ 0 & 0 & 0 & 1 \\\\ 0 & 0 & 1 & 0} } $\n",
    "$ \\newcommand{\\norm}[1]{ \\left\\lVert #1 \\right\\rVert } $"
   ]
  },
  {
   "cell_type": "markdown",
   "metadata": {},
   "source": [
    "<h2>Controlled Operations</h2>"
   ]
  },
  {
   "cell_type": "markdown",
   "metadata": {},
   "source": [
    "We are going to look at controlled operators acting on multiple qubits. "
   ]
  },
  {
   "cell_type": "markdown",
   "metadata": {},
   "source": [
    "<h3> CNOT operator </h3>"
   ]
  },
  {
   "cell_type": "markdown",
   "metadata": {},
   "source": [
    "CNOT is an operator defined on two qubits:\n",
    "\n",
    "$$\n",
    "    CNOT = \\mymatrix{cccc}{1 & 0 & 0 & 0 \\\\ 0 & 1 & 0 & 0 \\\\ 0 & 0 & 0 & 1 \\\\ 0 & 0 & 1 & 0} .\n",
    "$$\n",
    "\n",
    "Its effect is very simple: if the state of the first qubit is one, then the state of the second qubit is flipped. \n",
    "\n",
    "If the state of the first bit is zero, then the state of the second qubit remains the same. \n",
    "\n",
    "In summary:\n",
    "<ul>\n",
    "    <li>$ CNOT \\ket{00} = \\ket{00} $, </li>\n",
    "    <li>$ CNOT \\ket{01} = \\ket{01} $, </li>\n",
    "    <li>$ CNOT \\ket{10} = \\ket{11} $, </li>\n",
    "    <li>$ CNOT \\ket{11} = \\ket{10} $. </li>\n",
    "</ul>\n",
    "\n",
    "CNOT refers to as Controlled-NOT: NOT operator is applied in a controlled way."
   ]
  },
  {
   "cell_type": "markdown",
   "metadata": {},
   "source": [
    "<h3> cx-gate </h3>\n",
    "\n",
    "In Qiskit, CNOT operator is represented as cx-gate.\n",
    "\n",
    "It takes two arguments: controller-qubit and target-qubit.\n",
    "\n",
    "Its implementation is as follows:\n",
    "\n",
    "<i> <b>x-gate</b> (NOT operator) is applied to <u>the target qubit</u> that is <b>CONTROLLED</b> by <u>the controller qubit</u>.</i> \n",
    "\n"
   ]
  },
  {
   "cell_type": "markdown",
   "metadata": {},
   "source": [
    "<h3> Unitary backend</h3>\n",
    "\n",
    "Unitary_simulator gives a unitary representation of all gates in the circuit until this point.\n",
    "\n",
    "``` python\n",
    "    job = execute(circuit, Aer.get_backend('unitary_simulator'))\n",
    "    current_unitary = job.result().get_unitary(circuit, decimals=3)\n",
    "    print(current_unitary)\n",
    "```"
   ]
  },
  {
   "cell_type": "markdown",
   "metadata": {},
   "source": [
    "\n",
    "Let's check the unitary operator corresponding to the CNOT. We follow the qiskit order."
   ]
  },
  {
   "cell_type": "code",
   "execution_count": 2,
   "metadata": {
    "scrolled": true
   },
   "outputs": [
    {
     "name": "stdout",
     "output_type": "stream",
     "text": [
      "  1.0  0.0  0.0  0.0\n",
      "  0.0  1.0  0.0  0.0\n",
      "  0.0  0.0  0.0  1.0\n",
      "  0.0  0.0  1.0  0.0\n"
     ]
    },
    {
     "data": {
      "image/png": "[encoded data removed]",
      "text/plain": [
       "<Figure size 227.556x204.68 with 1 Axes>"
      ]
     },
     "execution_count": 2,
     "metadata": {},
     "output_type": "execute_result"
    }
   ],
   "source": [
    "# draw the circuit\n",
    "from qiskit import QuantumRegister, ClassicalRegister, QuantumCircuit, execute, Aer\n",
    "\n",
    "qreg1 =  QuantumRegister(2)\n",
    "creg1 = ClassicalRegister(2)\n",
    "\n",
    "mycircuit1 = QuantumCircuit(qreg1,creg1)\n",
    "\n",
    "mycircuit1.cx(qreg1[1],qreg1[0])\n",
    "\n",
    "\n",
    "job = execute(mycircuit1,Aer.get_backend('unitary_simulator'))\n",
    "u=job.result().get_unitary(mycircuit1,decimals=3)\n",
    "for i in range(len(u)):\n",
    "    s=\"\"\n",
    "    for j in range(len(u)):\n",
    "        val = str(u[i][j].real)\n",
    "        while(len(val)<5): val  = \" \"+val\n",
    "        s = s + val\n",
    "    print(s)\n",
    "\n",
    "mycircuit1.draw(output=\"mpl\")\n"
   ]
  },
  {
   "cell_type": "markdown",
   "metadata": {},
   "source": [
    "Now, let's apply CNOT to the states $ \\ket{00}, \\ket{01}, \\ket{10}, \\ket{11} $ iteratively where qreg[1] is the control and qreg[0] is the target."
   ]
  },
  {
   "cell_type": "code",
   "execution_count": 3,
   "metadata": {},
   "outputs": [
    {
     "name": "stdout",
     "output_type": "stream",
     "text": [
      "our input is 00 :  00 is observed 100 times\n",
      "our input is 01 :  01 is observed 100 times\n",
      "our input is 10 :  11 is observed 100 times\n",
      "our input is 11 :  10 is observed 100 times\n"
     ]
    }
   ],
   "source": [
    "# import all necessary objects and methods for quantum circuits\n",
    "from qiskit import QuantumRegister, ClassicalRegister, QuantumCircuit, execute, Aer\n",
    "\n",
    "all_inputs=['00','01','10','11']\n",
    "\n",
    "for input in all_inputs:\n",
    "    qreg2 =  QuantumRegister(2) # quantum register with 2 qubits\n",
    "    creg2 = ClassicalRegister(2) # classical register with 2 bits\n",
    "    mycircuit2 = QuantumCircuit(qreg2,creg2) # quantum circuit with quantum and classical registers\n",
    "    \n",
    "    #initialize the inputs\n",
    "    if input[0]=='1':\n",
    "        mycircuit2.x(qreg2[1]) # set the state of qreg[1] to |1>\n",
    "    if input[1]=='1':\n",
    "        mycircuit2.x(qreg2[0]) # set the state of qreg[0] to |1>\n",
    "\n",
    "    # apply cx(first-qubit,second-qubit)\n",
    "    mycircuit2.cx(qreg2[1],qreg2[0])\n",
    "\n",
    "    # measure both qubits\n",
    "    mycircuit2.measure(qreg2,creg2)\n",
    "    \n",
    "    # execute the circuit 100 times in the local simulator\n",
    "    job = execute(mycircuit2,Aer.get_backend('qasm_simulator'),shots=100)\n",
    "    counts = job.result().get_counts(mycircuit2)\n",
    "    for outcome in counts: # print the reverse of the outcomes\n",
    "        print(\"our input is\",input,\": \",outcome,\"is observed\",counts[outcome],\"times\")"
   ]
  },
  {
   "cell_type": "markdown",
   "metadata": {},
   "source": [
    "<h3>Task 1</h3>\n",
    "\n",
    "Our task is to learn the behavior of the following quantum circuit by doing experiments.\n",
    "\n",
    "Our circuit has two qubits. \n",
    "<ul>\n",
    "    <li> Apply Hadamard to both qubits.\n",
    "    <li> Apply CNOT(qreg[1] is the control,qreg[0] is the target).\n",
    "    <li> Apply Hadamard to both qubits.\n",
    "    <li> Measure the circuit.\n",
    "</ul>\n",
    "\n",
    "Iteratively initialize  the qubits to $ \\ket{00} $, $ \\ket{01} $, $ \\ket{10} $, and $ \\ket{11} $.\n",
    "\n",
    "Execute your program 100 times for each iteration, and then check the outcomes for each iteration. \n",
    "\n",
    "Observe that the overall circuit implements CNOT(qreg[0] is the control, qreg[1] is the target)."
   ]
  },
  {
   "cell_type": "code",
   "execution_count": 4,
   "metadata": {},
   "outputs": [
    {
     "name": "stdout",
     "output_type": "stream",
     "text": [
      "our input is 00 :  00 is observed 100 times\n",
      "our input is 01 :  11 is observed 100 times\n",
      "our input is 10 :  10 is observed 100 times\n",
      "our input is 11 :  01 is observed 100 times\n"
     ]
    }
   ],
   "source": [
    "# import all necessary objects and methods for quantum circuits\n",
    "from qiskit import QuantumRegister, ClassicalRegister, QuantumCircuit, execute, Aer\n",
    "\n",
    "#\n",
    "# your code is here\n",
    "from qiskit import QuantumRegister, ClassicalRegister, QuantumCircuit, execute, Aer\n",
    "\n",
    "all_inputs=['00','01','10','11']\n",
    "\n",
    "for input in all_inputs:\n",
    "    qreg1 =  QuantumRegister(2) # quantum register with 2 qubits\n",
    "    creg1 = ClassicalRegister(2) # classical register with 2 bits\n",
    "    mycircuit1 = QuantumCircuit(qreg1,creg1) # quantum circuit with quantum and classical registers\n",
    "    \n",
    "    #initialize the inputs\n",
    "    if input[0]=='1':\n",
    "        mycircuit1.x(qreg1[1]) # set the state of the qubit to |1>\n",
    "    if input[1]=='1':\n",
    "        mycircuit1.x(qreg1[0]) # set the state of the qubit to |1>\n",
    "\n",
    "    # apply h-gate to both qubits\n",
    "    mycircuit1.h(qreg1[0])\n",
    "    mycircuit1.h(qreg1[1])\n",
    "\n",
    "    # apply cx\n",
    "    mycircuit1.cx(qreg1[1],qreg1[0])\n",
    "\n",
    "    # apply h-gate to both qubits\n",
    "    mycircuit1.h(qreg1[0])\n",
    "    mycircuit1.h(qreg1[1])\n",
    "\n",
    "    # measure both qubits\n",
    "    mycircuit1.measure(qreg1,creg1)\n",
    "    \n",
    "    # execute the circuit 100 times in the local simulator\n",
    "    job = execute(mycircuit1,Aer.get_backend('qasm_simulator'),shots=100)\n",
    "    counts = job.result().get_counts(mycircuit1)\n",
    "    for outcome in counts: # print the reverse of the outcomes\n",
    "        print(\"our input is\",input,\": \",outcome,\"is observed\",counts[outcome],\"times\")\n",
    "#\n"
   ]
  },
  {
   "cell_type": "markdown",
   "metadata": {},
   "source": [
    "<a href=\"B39_Controlled_Operations_Solutions.ipynb#task1\">click for our solution</a>"
   ]
  },
  {
   "cell_type": "markdown",
   "metadata": {},
   "source": [
    "<h3>Task 2</h3>\n",
    "\n",
    "Our task is to learn the behavior of the following quantum circuit by doing experiments.\n",
    "\n",
    "Our circuit has two qubits. \n",
    "<ul>\n",
    "    <li> Apply CNOT(qreg[1] is the control, qreg[0] is the target).\n",
    "    <li> Apply CNOT(qreg[0] is the control, qreg[1] is the target).\n",
    "    <li> Apply CNOT(qreg[0] is the control, qreg[1] is the target).\n",
    "</ul>\n",
    "\n",
    "Iteratively initialize  the qubits to $ \\ket{00} $, $ \\ket{01} $, $ \\ket{10} $, and $ \\ket{11} $.\n",
    "\n",
    "Execute your program 100 times for each iteration, and then check the outcomes for each iteration. \n",
    "\n",
    "Observe that the overall circuit swaps the values of the two qubits:\n",
    "<ul>\n",
    "    <li> $\\ket{00} \\rightarrow \\ket{00} $ </li>\n",
    "    <li> $\\ket{01} \\rightarrow \\ket{10} $ </li>\n",
    "    <li> $\\ket{10} \\rightarrow \\ket{01} $ </li>\n",
    "    <li> $\\ket{11} \\rightarrow \\ket{11} $ </li>\n",
    "</ul>"
   ]
  },
  {
   "cell_type": "code",
   "execution_count": 5,
   "metadata": {},
   "outputs": [
    {
     "name": "stdout",
     "output_type": "stream",
     "text": [
      "our input is 00 :  00 is observed 100 times\n",
      "our input is 01 :  01 is observed 100 times\n",
      "our input is 10 :  11 is observed 100 times\n",
      "our input is 11 :  10 is observed 100 times\n"
     ]
    }
   ],
   "source": [
    "# import all necessary objects and methods for quantum circuits\n",
    "from qiskit import QuantumRegister, ClassicalRegister, QuantumCircuit, execute, Aer\n",
    "\n",
    "#\n",
    "# your code is here\n",
    "from qiskit import QuantumRegister, ClassicalRegister, QuantumCircuit, execute, Aer\n",
    "\n",
    "all_inputs=['00','01','10','11']\n",
    "\n",
    "for input in all_inputs:\n",
    "    qreg2 =  QuantumRegister(2) # quantum register with 2 qubits\n",
    "    creg2 = ClassicalRegister(2) # classical register with 2 bits\n",
    "    mycircuit2 = QuantumCircuit(qreg2,creg2) # quantum circuit with quantum and classical registers\n",
    "    \n",
    "    #initialize the inputs\n",
    "    if input[0]=='1':\n",
    "        mycircuit2.x(qreg2[1]) # set the value of the qubit to |1>\n",
    "    if input[1]=='1':\n",
    "        mycircuit2.x(qreg2[0]) # set the value of the qubit to |1>\n",
    "\n",
    "    # apply cx(qreg2[0] is the target)\n",
    "    mycircuit2.cx(qreg2[1],qreg2[0])\n",
    "    # apply cx(qreg2[1] is the target)\n",
    "    mycircuit2.cx(qreg2[0],qreg2[1])\n",
    "    # apply cx(qreg2[1] is the target)\n",
    "    mycircuit2.cx(qreg2[0],qreg2[1])\n",
    "    \n",
    "    mycircuit2.measure(qreg2,creg2)\n",
    "    \n",
    "    # execute the circuit 100 times in the local simulator\n",
    "    job = execute(mycircuit2,Aer.get_backend('qasm_simulator'),shots=100)\n",
    "    counts = job.result().get_counts(mycircuit2)\n",
    "    for outcome in counts: # print the reverse of the outcomes\n",
    "        print(\"our input is\",input,\": \",outcome,\"is observed\",counts[outcome],\"times\")\n",
    "#\n"
   ]
  },
  {
   "cell_type": "markdown",
   "metadata": {},
   "source": [
    "<a href=\"B39_Controlled_Operations_Solutions.ipynb#task2\">click for our solution</a>"
   ]
  },
  {
   "cell_type": "markdown",
   "metadata": {},
   "source": [
    "<h3> Task 3 [Extra] </h3>\n",
    "\n",
    "Create a quantum curcuit with $ n=5 $ qubits.\n",
    "\n",
    "Set each qubit to $ \\ket{1} $.\n",
    "\n",
    "Repeat 4 times:\n",
    "<ul>\n",
    "    <li>Randomly pick a pair of qubits, and apply cx-gate (CNOT operator) on the pair.</li>\n",
    "</ul>\n",
    "\n",
    "Draw your circuit, and execute your program 100 times.\n",
    "\n",
    "Verify your measurement results by checking the diagram of the circuit. "
   ]
  },
  {
   "cell_type": "code",
   "execution_count": null,
   "metadata": {},
   "outputs": [],
   "source": [
    "# import all necessary objects and methods for quantum circuits\n",
    "from qiskit import QuantumRegister, ClassicalRegister, QuantumCircuit, execute, Aer\n",
    "# import randrange for random choices\n",
    "from random import randrange\n",
    "\n",
    "#\n",
    "# your code is here\n",
    "#\n"
   ]
  },
  {
   "cell_type": "markdown",
   "metadata": {},
   "source": [
    "<a href=\"B39_Controlled_Operations_Solutions.ipynb#task3\">click for our solution</a>"
   ]
  },
  {
   "cell_type": "markdown",
   "metadata": {},
   "source": [
    "<h3> Task 4 </h3>\n",
    "\n",
    "In this task, our aim is to create an operator which will apply the NOT operator to the target qubit qreg[0] when the control qubit qreg[1] is in state $\\ket{0}$. In other words, we want to obtain the following operator:\n",
    "\n",
    "$\\mymatrix{cccc}{0 & 1 & 0 & 0 \\\\ 1 & 0 & 0 & 0 \\\\ 0 & 0 & 1 & 0 \\\\ 0 & 0 & 0 & 1}$.\n",
    "\n",
    "We can summarize its effect as follows:\n",
    "<ul>\n",
    "    <li>$  \\ket{00} \\rightarrow \\ket{01} $, </li>\n",
    "    <li>$  \\ket{01} \\rightarrow \\ket{00} $, </li>\n",
    "    <li>$  \\ket{10} \\rightarrow \\ket{10} $, </li>\n",
    "    <li>$  \\ket{11} \\rightarrow \\ket{11} $. </li>\n",
    "</ul>\n",
    "\n",
    "Write a function named c0x which takes the circuit name and the register as parameters and implements the operation. Check the corresponding unitary matrix using the code given below.\n",
    "<ul>\n",
    "    <li>Apply NOT operator to qreg[1];</li>\n",
    "    <li>Apply CNOT operator, where qreg[1] is control and qreg[0] is target;</li>\n",
    "    <li>Apply NOT operator to qreg[1] - to revert it to the initial state.</li>\n",
    "</ul>"
   ]
  },
  {
   "cell_type": "markdown",
   "metadata": {},
   "source": [
    "<b>Idea:</b> We can use our regular CNOT operator, and to change the condition for the control qubit we can apply NOT operator to it before the CNOT - this way the NOT operator will be applied to the target qubit when initially the state of the control qubit was $\\ket{0}$.\n",
    "\n",
    "Although this trick is quite simple, this approach is important and will be very useful in our following implementations."
   ]
  },
  {
   "cell_type": "code",
   "execution_count": null,
   "metadata": {},
   "outputs": [],
   "source": [
    "def c0x(mycircuit,qreg):\n",
    "\n",
    "#\n",
    "# Your code here\n",
    "#"
   ]
  },
  {
   "cell_type": "code",
   "execution_count": null,
   "metadata": {},
   "outputs": [],
   "source": [
    "from qiskit import QuantumRegister, ClassicalRegister, QuantumCircuit, execute, Aer\n",
    "\n",
    "qreg4 =  QuantumRegister(2)\n",
    "creg4 = ClassicalRegister(2)\n",
    "\n",
    "mycircuit4 = QuantumCircuit(qreg4,creg4)\n",
    "\n",
    "#We apply the operator c0x by calling the function\n",
    "c0x(mycircuit4,qreg4)\n",
    "\n",
    "job = execute(mycircuit1,Aer.get_backend('unitary_simulator'))\n",
    "u=job.result().get_unitary(mycircuit1,decimals=3)\n",
    "for i in range(len(u)):\n",
    "    s=\"\"\n",
    "    for j in range(len(u)):\n",
    "        val = str(u[i][j].real)\n",
    "        while(len(val)<5): val  = \" \"+val\n",
    "        s = s + val\n",
    "    print(s)\n",
    "\n",
    "mycircuit1.draw(output=\"mpl\")"
   ]
  },
  {
   "cell_type": "markdown",
   "metadata": {},
   "source": [
    "<a href=\"B39_Controlled_Operations_Solutions.ipynb#task4\">click for our solution</a>"
   ]
  },
  {
   "cell_type": "markdown",
   "metadata": {},
   "source": [
    "<h3>CCNOT</h3>\n",
    "\n",
    "Now we will discuss CNOT gate controlled by two qubits (also called the Toffoli gate). \n",
    "\n",
    "The idea behind this gate is simple - NOT operator is applied to the target qubit when both control qubits are in state $\\ket{1}$. Below you can see its matrix representation:\n",
    "\n",
    "$\\mymatrix{cccccccc}{1 & 0 & 0 & 0 & 0 & 0 & 0 & 0 \\\\ 0 & 1 & 0 & 0 & 0 & 0 & 0 & 0 \\\\ 0 & 0 & 1 & 0 & 0 & 0 & 0 & 0 \\\\ 0 & 0 & 0 & 1 & 0 & 0 & 0 & 0 \\\\ 0 & 0 & 0 & 0 & 1 & 0 & 0 & 0 \\\\ 0 & 0 & 0 & 0 & 0 & 1 & 0 & 0 \\\\ 0 & 0 & 0 & 0 & 0 & 0 & 0 & 1 \\\\ 0 & 0 & 0 & 0 & 0 & 0 & 1 & 0}$.\n",
    "\n",
    "\n",
    "In summary:\n",
    "<ul>\n",
    "    <li>$ CCNOT \\ket{000} = \\ket{000} $, </li>\n",
    "    <li>$ CCNOT \\ket{001} = \\ket{001} $, </li>\n",
    "    <li>$ CCNOT \\ket{010} = \\ket{010} $, </li>\n",
    "    <li>$ CCNOT \\ket{011} = \\ket{011} $. </li>\n",
    "     <li>$ CCNOT \\ket{100} = \\ket{100} $, </li>\n",
    "    <li>$ CCNOT \\ket{101} = \\ket{101} $, </li>\n",
    "    <li>$ CCNOT \\ket{110} = \\ket{111} $,  </li>\n",
    "    <li>$ CCNOT \\ket{111} = \\ket{110} $. </li>\n",
    "</ul>"
   ]
  },
  {
   "cell_type": "markdown",
   "metadata": {},
   "source": [
    "<h3> ccx-gate </h3>\n",
    "\n",
    "In Qiskit, CCNOT operator is represented as ccx-gate.\n",
    "\n",
    "It takes three arguments: two controller-qubits and target-qubit.\n",
    "\n",
    "    circuit.ccx(control-qubit1,control-qubit2,target-qubit)\n",
    "\n",
    "<i> <b>x-gate</b> (NOT operator) is applied to <u>the target qubit</u> that is <b>CONTROLLED</b> by <u>the controller qubits</u>.</i> \n"
   ]
  },
  {
   "cell_type": "markdown",
   "metadata": {},
   "source": [
    "Now, let's apply CCNOT iteratively to see its effect. (Note that we follow the qiskit order.)"
   ]
  },
  {
   "cell_type": "code",
   "execution_count": 8,
   "metadata": {},
   "outputs": [
    {
     "name": "stdout",
     "output_type": "stream",
     "text": [
      "our input is 000 :  000 is observed 100 times\n",
      "our input is 001 :  001 is observed 100 times\n",
      "our input is 010 :  010 is observed 100 times\n",
      "our input is 011 :  011 is observed 100 times\n",
      "our input is 100 :  100 is observed 100 times\n",
      "our input is 101 :  101 is observed 100 times\n",
      "our input is 110 :  111 is observed 100 times\n",
      "our input is 111 :  110 is observed 100 times\n"
     ]
    }
   ],
   "source": [
    "# import all necessary objects and methods for quantum circuits\n",
    "from qiskit import QuantumRegister, ClassicalRegister, QuantumCircuit, execute, Aer\n",
    "\n",
    "all_inputs=['000','001','010','011','100','101','110','111']\n",
    "\n",
    "for input in all_inputs:\n",
    "    qreg3 =  QuantumRegister(3) # quantum register with 3 qubits\n",
    "    creg3 = ClassicalRegister(3) # classical register with 3 bits\n",
    "    mycircuit3 = QuantumCircuit(qreg3,creg3) # quantum circuit with quantum and classical registers\n",
    "    \n",
    "    #initialize the inputs\n",
    "    if input[0]=='1':\n",
    "        mycircuit3.x(qreg3[2]) # set the state of the first qubit to |1>\n",
    "    if input[1]=='1':\n",
    "        mycircuit3.x(qreg3[1]) # set the state of the second qubit to |1>\n",
    "    if input[2]=='1':\n",
    "        mycircuit3.x(qreg3[0]) # set the state of the third qubit to |1>\n",
    "\n",
    "    # apply ccx(first-qubit,second-qubit,third-qubit)\n",
    "    mycircuit3.ccx(qreg3[2],qreg3[1],qreg3[0])\n",
    "\n",
    "    # measure the qubits\n",
    "    mycircuit3.measure(qreg3,creg3)\n",
    "    \n",
    "    # execute the circuit 100 times in the local simulator\n",
    "    job = execute(mycircuit3,Aer.get_backend('qasm_simulator'),shots=100)\n",
    "    counts = job.result().get_counts(mycircuit3)\n",
    "    for outcome in counts: # print the reverse of the outcomes\n",
    "        print(\"our input is\",input,\": \",outcome,\"is observed\",counts[outcome],\"times\")"
   ]
  },
  {
   "cell_type": "markdown",
   "metadata": {},
   "source": [
    "<hr>\n",
    "Recall Task 4. Similarly, we can create an operator which applies NOT operator to a target qubit, controlled by two qubits which are in states different than 1. For example, the following implementation allows to apply NOT operator to the target qubit if both control qubits are in state $\\ket{0}$. \n",
    "\n",
    "The matrix form of the  operator is given as follows:\n",
    "\n",
    "$\\mymatrix{cccc}{0 & 1 & 0 & 0 & 0 & 0 & 0 & 0 \\\\ 1 & 0 & 0 & 0& 0 & 0 & 0 & 0 \\\\ 0 & 0 & 1 & 0& 0 & 0 & 0 & 0 \\\\ 0 & 0 & 0 & 1& 0 & 0 & 0 & 0 \\\\ 0 & 0 & 0 & 0& 1 & 0 & 0 & 0 \\\\ 0 & 0 & 0 & 0& 0 & 1 & 0 & 0 \\\\ 0 & 0 & 0 & 0& 0 & 0 & 1 & 0 \\\\ 0 & 0 & 0 & 0& 0 & 0 & 0 & 1}$.\n"
   ]
  },
  {
   "cell_type": "code",
   "execution_count": 12,
   "metadata": {},
   "outputs": [],
   "source": [
    "def cc0x(mycircuit,qreg):\n",
    "\n",
    "    mycircuit.x(qreg[2])\n",
    "    mycircuit.x(qreg[1])\n",
    "\n",
    "    mycircuit.ccx(qreg[2],qreg[1],qreg[0])\n",
    "\n",
    "    # Returning control qubits to the initial state\n",
    "    mycircuit.x(qreg[1])\n",
    "    mycircuit.x(qreg[2])"
   ]
  },
  {
   "cell_type": "code",
   "execution_count": 13,
   "metadata": {},
   "outputs": [
    {
     "name": "stdout",
     "output_type": "stream",
     "text": [
      "  0.0  1.0  0.0  0.0  0.0  0.0  0.0  0.0\n",
      "  1.0  0.0  0.0  0.0  0.0  0.0  0.0  0.0\n",
      "  0.0  0.0  1.0  0.0  0.0  0.0  0.0  0.0\n",
      "  0.0  0.0  0.0  1.0  0.0  0.0  0.0  0.0\n",
      "  0.0  0.0  0.0  0.0  1.0  0.0  0.0  0.0\n",
      "  0.0  0.0  0.0  0.0  0.0  1.0  0.0  0.0\n",
      "  0.0  0.0  0.0  0.0  0.0  0.0  1.0  0.0\n",
      "  0.0  0.0  0.0  0.0  0.0  0.0  0.0  1.0\n"
     ]
    },
    {
     "data": {
      "image/png": "[encoded data removed]",
      "text/plain": [
       "<Figure size 358.792x264.88 with 1 Axes>"
      ]
     },
     "execution_count": 13,
     "metadata": {},
     "output_type": "execute_result"
    }
   ],
   "source": [
    "from qiskit import QuantumRegister, ClassicalRegister, QuantumCircuit, execute, Aer\n",
    "\n",
    "qreg4 =  QuantumRegister(3)\n",
    "creg4 = ClassicalRegister(3)\n",
    "\n",
    "mycircuit4 = QuantumCircuit(qreg4,creg4)\n",
    "\n",
    "cc0x(mycircuit4,qreg4)\n",
    "\n",
    "job = execute(mycircuit4,Aer.get_backend('unitary_simulator'))\n",
    "u=job.result().get_unitary(mycircuit4,decimals=3)\n",
    "for i in range(len(u)):\n",
    "    s=\"\"\n",
    "    for j in range(len(u)):\n",
    "        val = str(u[i][j].real)\n",
    "        while(len(val)<5): val  = \" \"+val\n",
    "        s = s + val\n",
    "    print(s)\n",
    "\n",
    "mycircuit4.draw(output=\"mpl\")"
   ]
  },
  {
   "cell_type": "markdown",
   "metadata": {},
   "source": [
    "<h3>Task 5</h3>\n",
    "\n",
    "You have a circuit with three qubits. Apply NOT operator to qreg[1] if qreg[0] is in state 0 and qreg[2] is in state 1. Check its efffect on different inputs."
   ]
  },
  {
   "cell_type": "code",
   "execution_count": 11,
   "metadata": {},
   "outputs": [
    {
     "name": "stdout",
     "output_type": "stream",
     "text": [
      "our input is 000 :  000 is observed 100 times\n",
      "our input is 001 :  001 is observed 100 times\n",
      "our input is 010 :  010 is observed 100 times\n",
      "our input is 011 :  011 is observed 100 times\n",
      "our input is 100 :  110 is observed 100 times\n",
      "our input is 101 :  101 is observed 100 times\n",
      "our input is 110 :  100 is observed 100 times\n",
      "our input is 111 :  111 is observed 100 times\n"
     ]
    }
   ],
   "source": [
    "from qiskit import QuantumRegister, ClassicalRegister, QuantumCircuit, execute, Aer\n",
    "\n",
    "all_inputs=['000','001','010','011','100','101','110','111']\n",
    "\n",
    "for input in all_inputs:\n",
    "    qreg5 =  QuantumRegister(3) # quantum register with 3 qubits\n",
    "    creg5 = ClassicalRegister(3) # classical register with 3 bits\n",
    "    mycircuit5 = QuantumCircuit(qreg5,creg5) # quantum circuit with quantum and classical registers\n",
    "    \n",
    "    #initialize the inputs\n",
    "    if input[0]=='1':\n",
    "        mycircuit5.x(qreg5[2]) # set the state of the first qubit to |1>\n",
    "    if input[1]=='1':\n",
    "        mycircuit5.x(qreg5[1]) # set the state of the second qubit to |1>\n",
    "    if input[2]=='1':\n",
    "        mycircuit5.x(qreg5[0]) # set the state of the third qubit to |1>\n",
    "\n",
    "#\n",
    "# You code here\n",
    "    mycircuit5.x(qreg5[0])\n",
    "\n",
    "    mycircuit5.ccx(qreg5[2],qreg5[0],qreg5[1])\n",
    "\n",
    "    #Set back to initial value\n",
    "    mycircuit5.x(qreg5[0])\n",
    "#\n",
    "\n",
    "\n",
    "# measure the qubits\n",
    "    mycircuit5.measure(qreg5,creg5)\n",
    "    \n",
    "    # execute the circuit 100 times in the local simulator\n",
    "    job = execute(mycircuit5,Aer.get_backend('qasm_simulator'),shots=100)\n",
    "    counts = job.result().get_counts(mycircuit5)\n",
    "    for outcome in counts: # print the reverse of the outcomes\n",
    "        print(\"our input is\",input,\": \",outcome,\"is observed\",counts[outcome],\"times\")"
   ]
  },
  {
   "cell_type": "markdown",
   "metadata": {},
   "source": [
    "<a href=\"B39_Controlled_Operations_Solutions.ipynb#task5\">click for our solution</a>"
   ]
  },
  {
   "cell_type": "markdown",
   "metadata": {},
   "source": [
    "<h3>More controls</h3>\n",
    "\n",
    "Suppose that you are given ccx operator which applies a not operator controlled by two qubits. You can use additional qubits to implement a not operator controlled by more than two qubits.\n",
    "\n",
    "\n",
    "The following code implements a NOT operator controlled by the three qubits qreg[1], qreg[2] and qreg[3], qreg[4] is used as the additional qubit and qreg[0] is the target. We apply it iteratively. Note that the first qubit in the output is due to additional qubit."
   ]
  },
  {
   "cell_type": "code",
   "execution_count": 14,
   "metadata": {},
   "outputs": [],
   "source": [
    "def cccx(mycircuit,qreg):\n",
    "    #qreg[4] is set to 1 if qreg[1] and qreg[2] are 1 \n",
    "    mycircuit.ccx(qreg[1],qreg[2],qreg[4])\n",
    "    \n",
    "    #NOT operator is applied to qreg[0] if all three qubits are 1\n",
    "    mycircuit5.ccx(qreg[3],qreg[4],qreg[0])\n",
    "    \n",
    "    #We set back qreg[4] back to its initial value\n",
    "    mycircuit5.ccx(qreg[1],qreg[2],qreg[4])    "
   ]
  },
  {
   "cell_type": "code",
   "execution_count": 15,
   "metadata": {},
   "outputs": [
    {
     "name": "stdout",
     "output_type": "stream",
     "text": [
      "our input is 0000 :  00000 is observed 100 times\n",
      "our input is 0001 :  00001 is observed 100 times\n",
      "our input is 0010 :  00010 is observed 100 times\n",
      "our input is 0011 :  00011 is observed 100 times\n",
      "our input is 0100 :  00100 is observed 100 times\n",
      "our input is 0101 :  00101 is observed 100 times\n",
      "our input is 0110 :  00110 is observed 100 times\n",
      "our input is 0111 :  00111 is observed 100 times\n",
      "our input is 0000 :  00000 is observed 100 times\n",
      "our input is 1001 :  01001 is observed 100 times\n",
      "our input is 1010 :  01010 is observed 100 times\n",
      "our input is 1011 :  01011 is observed 100 times\n",
      "our input is 1100 :  01100 is observed 100 times\n",
      "our input is 1101 :  01101 is observed 100 times\n",
      "our input is 1110 :  01111 is observed 100 times\n",
      "our input is 1111 :  01110 is observed 100 times\n"
     ]
    }
   ],
   "source": [
    "# import all necessary objects and methods for quantum circuits\n",
    "from qiskit import QuantumRegister, ClassicalRegister, QuantumCircuit, execute, Aer\n",
    "\n",
    "all_inputs=['0000','0001','0010','0011','0100','0101','0110','0111','0000','1001','1010','1011','1100',\n",
    "            '1101','1110','1111']\n",
    "\n",
    "for input in all_inputs:\n",
    "    qreg5 =  QuantumRegister(5) # quantum register with 5 qubits\n",
    "    creg5 = ClassicalRegister(5) # classical register with 5 bits\n",
    "    mycircuit5 = QuantumCircuit(qreg5,creg5) # quantum circuit with quantum and classical registers\n",
    "    \n",
    "    #initialize the inputs\n",
    "    if input[0]=='1':\n",
    "        mycircuit5.x(qreg5[3]) # set the state of the qubit to |1>\n",
    "    if input[1]=='1':\n",
    "        mycircuit5.x(qreg5[2]) # set the state of the qubit to |1>\n",
    "    if input[2]=='1':\n",
    "        mycircuit5.x(qreg5[1]) # set the state of the qubit to |1>\n",
    "    if input[3]=='1':\n",
    "        mycircuit5.x(qreg5[0]) # set the state of the qubit to |1>\n",
    "\n",
    "    cccx(mycircuit5,qreg5) \n",
    "    \n",
    "    # measure the qubits\n",
    "    mycircuit5.measure(qreg5,creg5)\n",
    "    \n",
    "    # execute the circuit 100 times in the local simulator\n",
    "    job = execute(mycircuit5,Aer.get_backend('qasm_simulator'),shots=100)\n",
    "    counts = job.result().get_counts(mycircuit5)\n",
    "    for outcome in counts: # print the reverse of the outcomes\n",
    "        print(\"our input is\",input,\": \",outcome,\"is observed\",counts[outcome],\"times\")"
   ]
  },
  {
   "cell_type": "markdown",
   "metadata": {},
   "source": [
    "<h3>Task 6</h3>\n",
    "\n",
    "Implement the NOT operator controlled by 4 qubits where qreg[0] is the target and apply it iteratively to all possible states. Note that you will need additional qubits."
   ]
  },
  {
   "cell_type": "code",
   "execution_count": 16,
   "metadata": {},
   "outputs": [],
   "source": [
    "def ccccx(mycircuit,qreg):\n",
    "    \n",
    "    #\n",
    "    #Your code here\n",
    "    mycircuit.ccx(qreg[4],qreg[3],qreg[5])\n",
    "    mycircuit.ccx(qreg[2],qreg[1],qreg[6])\n",
    "\n",
    "    mycircuit.ccx(qreg[5],qreg[6],qreg[0])\n",
    "\n",
    "    # Returning additional qubits to the initial state\n",
    "    mycircuit.ccx(qreg[2],qreg[1],qreg[6])\n",
    "    mycircuit.ccx(qreg[4],qreg[3],qreg[5])"
   ]
  },
  {
   "cell_type": "code",
   "execution_count": 17,
   "metadata": {},
   "outputs": [
    {
     "name": "stdout",
     "output_type": "stream",
     "text": [
      "our input is 00000 :  0000000 is observed 10000 times\n",
      "our input is 00001 :  0000001 is observed 10000 times\n",
      "our input is 00010 :  0000010 is observed 10000 times\n",
      "our input is 00011 :  0000011 is observed 10000 times\n",
      "our input is 00100 :  0000100 is observed 10000 times\n",
      "our input is 00101 :  0000101 is observed 10000 times\n",
      "our input is 00110 :  0000110 is observed 10000 times\n",
      "our input is 00111 :  0000111 is observed 10000 times\n",
      "our input is 00000 :  0000000 is observed 10000 times\n",
      "our input is 01001 :  0001001 is observed 10000 times\n",
      "our input is 01010 :  0001010 is observed 10000 times\n",
      "our input is 01011 :  0001011 is observed 10000 times\n",
      "our input is 01100 :  0001100 is observed 10000 times\n",
      "our input is 01101 :  0001101 is observed 10000 times\n",
      "our input is 01110 :  0001110 is observed 10000 times\n",
      "our input is 01111 :  0001111 is observed 10000 times\n",
      "our input is 10000 :  0010000 is observed 10000 times\n",
      "our input is 10001 :  0010001 is observed 10000 times\n",
      "our input is 10010 :  0010010 is observed 10000 times\n",
      "our input is 10011 :  0010011 is observed 10000 times\n",
      "our input is 10100 :  0010100 is observed 10000 times\n",
      "our input is 10101 :  0010101 is observed 10000 times\n",
      "our input is 10110 :  0010110 is observed 10000 times\n",
      "our input is 10111 :  0010111 is observed 10000 times\n",
      "our input is 10000 :  0010000 is observed 10000 times\n",
      "our input is 11001 :  0011001 is observed 10000 times\n",
      "our input is 11010 :  0011010 is observed 10000 times\n",
      "our input is 11011 :  0011011 is observed 10000 times\n",
      "our input is 11100 :  0011100 is observed 10000 times\n",
      "our input is 11101 :  0011101 is observed 10000 times\n",
      "our input is 11110 :  0011111 is observed 10000 times\n",
      "our input is 11111 :  0011110 is observed 10000 times\n"
     ]
    }
   ],
   "source": [
    "# import all necessary objects and methods for quantum circuits\n",
    "from qiskit import QuantumRegister, ClassicalRegister, QuantumCircuit, execute, Aer\n",
    "\n",
    "\n",
    "all_inputs=['00000','00001','00010','00011','00100','00101','00110','00111','00000',\n",
    "            '01001','01010','01011','01100','01101','01110','01111','10000','10001',\n",
    "            '10010','10011','10100','10101','10110','10111','10000','11001','11010',\n",
    "            '11011','11100','11101','11110','11111']\n",
    "\n",
    "for input in all_inputs:\n",
    "    qreg6 =  QuantumRegister(7) # quantum register with 7 qubits\n",
    "    creg6 = ClassicalRegister(7) # classical register with 7 bits\n",
    "    mycircuit6 = QuantumCircuit(qreg6,creg6) # quantum circuit with quantum and classical registers\n",
    "    \n",
    "    #initialize the inputs\n",
    "    if input[0]=='1':\n",
    "        mycircuit6.x(qreg6[4]) # set the state of the first qubit to |1>\n",
    "    if input[1]=='1':\n",
    "        mycircuit6.x(qreg6[3]) # set the state of the second qubit to |1>\n",
    "    if input[2]=='1':\n",
    "        mycircuit6.x(qreg6[2]) # set the state of the third qubit to |1>\n",
    "    if input[3]=='1':\n",
    "        mycircuit6.x(qreg6[1]) # set the state of the fourth qubit to |1>\n",
    "    if input[4]=='1':\n",
    "        mycircuit6.x(qreg6[0]) # set the state of the fifth qubit to |1>    \n",
    "    \n",
    "    ccccx(mycircuit6,qreg6)\n",
    "\n",
    "    mycircuit6.measure(qreg6,creg6)\n",
    "\n",
    "    job = execute(mycircuit6,Aer.get_backend('qasm_simulator'),shots=10000)\n",
    "    counts = job.result().get_counts(mycircuit6)\n",
    "    for outcome in counts: # print the reverse of the outcomes\n",
    "        print(\"our input is\",input,\": \",outcome,\"is observed\",counts[outcome],\"times\")"
   ]
  },
  {
   "cell_type": "markdown",
   "metadata": {},
   "source": [
    "<a href=\"B39_Controlled_Operations_Solutions.ipynb#task6\">click for our solution</a>"
   ]
  },
  {
   "cell_type": "markdown",
   "metadata": {},
   "source": [
    "<h3>Task 7</h3>\n",
    "\n",
    "Implement the following control: the NOT operator is applied to the target qubit qreg[0] if 5 control qubits qreg[5] to qreg[1] are initially in the state $\\ket{10101}$. Check your operator by trying different initial states. You may define a function or write your code directly."
   ]
  },
  {
   "cell_type": "code",
   "execution_count": null,
   "metadata": {},
   "outputs": [],
   "source": [
    "# import all necessary objects and methods for quantum circuits\n",
    "from qiskit import QuantumRegister, ClassicalRegister, QuantumCircuit, execute, Aer\n",
    "\n",
    "#Try different initial states\n",
    "all_inputs=['101010','101011','100000','111111']\n",
    "\n",
    "for input in all_inputs:\n",
    "    qreg7 =  QuantumRegister(9) # quantum register with 9 qubits\n",
    "    creg7 = ClassicalRegister(9) # classical register with 9 bits\n",
    "    mycircuit7 = QuantumCircuit(qreg7,creg7) # quantum circuit with quantum and classical registers\n",
    "    \n",
    "    #initialize the inputs\n",
    "    if input[0]=='1':\n",
    "        mycircuit7.x(qreg7[5]) # set the state of the first qubit to |1>\n",
    "    if input[1]=='1':\n",
    "        mycircuit7.x(qreg7[4]) # set the state of the second qubit to |1>\n",
    "    if input[2]=='1':\n",
    "        mycircuit7.x(qreg7[3]) # set the state of the third qubit to |1>\n",
    "    if input[3]=='1':\n",
    "        mycircuit7.x(qreg7[2]) # set the state of the fourth qubit to |1>\n",
    "    if input[4]=='1':\n",
    "        mycircuit7.x(qreg7[1]) # set the state of the fifth qubit to |1>\n",
    "    if input[5]=='1':\n",
    "        mycircuit7.x(qreg7[0]) # set the state of the fifth qubit to |1>\n",
    "\n",
    "    #\n",
    "    # Your code here\n",
    "    #\n",
    "    \n",
    "    mycircuit7.measure(qreg7,creg7)\n",
    "\n",
    "    job = execute(mycircuit7,Aer.get_backend('qasm_simulator'),shots=10000)\n",
    "    counts = job.result().get_counts(mycircuit7)\n",
    "    for outcome in counts: # print the reverse of the outcomes\n",
    "        print(\"our input is\",input,\": \",outcome,\"is observed\",counts[outcome],\"times\")"
   ]
  },
  {
   "cell_type": "markdown",
   "metadata": {},
   "source": [
    "<a href=\"B39_Controlled_Operations_Solutions.ipynb#task7\">click for our solution</a>"
   ]
  },
  {
   "cell_type": "markdown",
   "metadata": {},
   "source": [
    "<h3>Task 8 (Optional)</h3>\n",
    "\n",
    "Implement the parametrized controlled NOT operator with 4 control qubits, where parameter will be the state of control qubits for which NOT operator will be applied to the target qubit.\n",
    "\n",
    "As a result you need to define the following function: <i>control(circuit,quantum_reg,number)</i>, where:\n",
    "<ul>\n",
    "    <li><i>circuit</i> allows to pass the quantum circuit;</li>\n",
    "    <li><i>quantum_reg</i> allows to pass the quantum register;</li>\n",
    "    <li><i>state</i> is the state of control qubits, between 0 and 15, where 0 corresponds to 0000 and 15 corresponds to 1111 (like binary numbers :) ).</li>\n",
    "</ul>"
   ]
  },
  {
   "cell_type": "code",
   "execution_count": null,
   "metadata": {},
   "outputs": [],
   "source": [
    "#state - the state of control qubits, between 0 and 15.\n",
    "def control(circuit,quantum_reg,state):\n",
    "\n",
    "#\n",
    "# your code is here\n",
    "#"
   ]
  },
  {
   "cell_type": "markdown",
   "metadata": {},
   "source": [
    "You can try different inputs to see that your function is implementing the mentioned control operation."
   ]
  },
  {
   "cell_type": "code",
   "execution_count": null,
   "metadata": {},
   "outputs": [],
   "source": [
    "#Try different initial states\n",
    "all_inputs=['01010','01011','10000','11111']\n",
    "\n",
    "for input in all_inputs:\n",
    "    qreg8 =  QuantumRegister(7) # quantum register with 7 qubits\n",
    "    creg8 = ClassicalRegister(7) # classical register with 7 bits\n",
    "    mycircuit8 = QuantumCircuit(qreg8,creg8) # quantum circuit with quantum and classical registers\n",
    "    \n",
    "    #initialize the inputs\n",
    "    if input[0]=='1':\n",
    "        mycircuit8.x(qreg8[4]) # set the state of the first qubit to |1>\n",
    "    if input[1]=='1':\n",
    "        mycircuit8.x(qreg8[3]) # set the state of the second qubit to |1>\n",
    "    if input[2]=='1':\n",
    "        mycircuit8.x(qreg8[2]) # set the state of the third qubit to |1>\n",
    "    if input[3]=='1':\n",
    "        mycircuit8.x(qreg8[1]) # set the state of the fourth qubit to |1>\n",
    "    if input[4]=='1':\n",
    "        mycircuit8.x(qreg8[0]) # set the state of the fifth qubit to |1>\n",
    "\n",
    "\n",
    "    control(mycircuit8,qreg8,5)\n",
    "    mycircuit8.measure(qreg8,creg8)\n",
    "\n",
    "    job = execute(mycircuit8,Aer.get_backend('qasm_simulator'),shots=10000)\n",
    "    counts = job.result().get_counts(mycircuit8)\n",
    "    for outcome in counts: # print the reverse of the outcomes\n",
    "        print(\"our input is\",input,\": \",outcome,\"is observed\",counts[outcome],\"times\")"
   ]
  },
  {
   "cell_type": "markdown",
   "metadata": {},
   "source": [
    "<a href=\"B39_Controlled_Operations_Solutions.ipynb#task8\">click for our solution</a>"
   ]
  },
  {
   "cell_type": "markdown",
   "metadata": {},
   "source": [
    "<h3> Multi-controlled Not Gate </h3>"
   ]
  },
  {
   "cell_type": "markdown",
   "metadata": {},
   "source": [
    "In Qiskit there is a multi-controlled not gate, known as the multi controlled Toffoli gate. It is represented by mct.\n",
    "\n",
    "    circuit.mct(control_list,target_qubit,ancilla_list)\n",
    "\n",
    "<i> <b>x-gate</b> (NOT operator) is applied to <u>the target qubit</u> <b>CONTROLLED</b> by <u>the list of control qubits</u> using the <u>ancilla list</u> as the additional qubits</u>.</i> \n"
   ]
  },
  {
   "cell_type": "markdown",
   "metadata": {},
   "source": [
    "If there are $n$ control qubits, how many additional qubits do you need?"
   ]
  },
  {
   "cell_type": "markdown",
   "metadata": {},
   "source": [
    "Let's apply a NOT operator controlled by the four qubits qreg[1], qreg[2], qreg[3] and qreg[4]. Let qreg[5] and qreg[6] be the additional qubits and let qreg[0] be the target. Let's check the inputs 11111 and 11110."
   ]
  },
  {
   "cell_type": "code",
   "execution_count": 18,
   "metadata": {},
   "outputs": [
    {
     "name": "stdout",
     "output_type": "stream",
     "text": [
      "our input is 11110 :  0011111 is observed 100 times\n",
      "our input is 11111 :  0011110 is observed 100 times\n"
     ]
    }
   ],
   "source": [
    "# import all necessary objects and methods for quantum circuits\n",
    "from qiskit import QuantumRegister, ClassicalRegister, QuantumCircuit, execute, Aer\n",
    "\n",
    "all_inputs=['11110','11111']\n",
    "\n",
    "for input in all_inputs:\n",
    "    qreg =  QuantumRegister(7) # quantum register with 7 qubits\n",
    "    creg = ClassicalRegister(7) # classical register with 7 bits\n",
    "    mycircuit = QuantumCircuit(qreg,creg) # quantum circuit with quantum and classical registers\n",
    "    \n",
    "    #initialize the inputs\n",
    "    if input[0]=='1':\n",
    "        mycircuit.x(qreg[4]) # set the state of the qubit to |1>\n",
    "    if input[1]=='1':\n",
    "        mycircuit.x(qreg[3]) # set the state of the qubit to |1>\n",
    "    if input[2]=='1':\n",
    "        mycircuit.x(qreg[2]) # set the state of the qubit to |1>\n",
    "    if input[3]=='1':\n",
    "        mycircuit.x(qreg[1]) # set the state of the qubit to |1>\n",
    "    if input[4]=='1':\n",
    "        mycircuit.x(qreg[0]) # set the state of the qubit to |1>\n",
    "\n",
    "    control_list=[]\n",
    "    for i in range(1,5):\n",
    "        control_list.append(qreg[i])\n",
    "    mycircuit.mct(control_list,qreg[0],[qreg[5],qreg[6]]) \n",
    "    \n",
    "    # measure the qubits\n",
    "    mycircuit.measure(qreg,creg)\n",
    "    \n",
    "    # execute the circuit 100 times in the local simulator\n",
    "    job = execute(mycircuit,Aer.get_backend('qasm_simulator'),shots=100)\n",
    "    counts = job.result().get_counts(mycircuit)\n",
    "    for outcome in counts: # print the reverse of the outcomes\n",
    "        print(\"our input is\",input,\": \",outcome,\"is observed\",counts[outcome],\"times\")"
   ]
  },
  {
   "cell_type": "code",
   "execution_count": null,
   "metadata": {},
   "outputs": [],
   "source": []
  }
 ],
 "metadata": {
  "kernelspec": {
   "display_name": "Python 3",
   "language": "python",
   "name": "python3"
  },
  "language_info": {
   "codemirror_mode": {
    "name": "ipython",
    "version": 3
   },
   "file_extension": ".py",
   "mimetype": "text/x-python",
   "name": "python",
   "nbconvert_exporter": "python",
   "pygments_lexer": "ipython3",
   "version": "3.7.4"
  }
 },
 "nbformat": 4,
 "nbformat_minor": 4
}
