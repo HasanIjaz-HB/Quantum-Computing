{
 "cells": [
  {
   "cell_type": "markdown",
   "metadata": {},
   "source": [
    "<table>\n",
    "    <tr><td align=\"right\" style=\"background-color:#ffffff;\">\n",
    "        <img src=\"../images/logo.jpg\" width=\"20%\" align=\"right\">\n",
    "    </td></tr>\n",
    "    <tr><td align=\"right\" style=\"color:#777777;background-color:#ffffff;font-size:12px;\">\n",
    "        Prepared by Abuzer Yakaryilmaz<br>\n",
    "        Özlem Salehi | October 02, 2019 (updated)\n",
    "    </td></tr>\n",
    "    <tr><td align=\"right\" style=\"color:#bbbbbb;background-color:#ffffff;font-size:11px;font-style:italic;\">\n",
    "        This cell contains some macros. If there is a problem with displaying mathematical formulas, please run this cell to load these macros.\n",
    "    </td></tr>\n",
    "</table>\n",
    "$ \\newcommand{\\bra}[1]{\\langle #1|} $\n",
    "$ \\newcommand{\\ket}[1]{|#1\\rangle} $\n",
    "$ \\newcommand{\\braket}[2]{\\langle #1|#2\\rangle} $\n",
    "$ \\newcommand{\\dot}[2]{ #1 \\cdot #2} $\n",
    "$ \\newcommand{\\biginner}[2]{\\left\\langle #1,#2\\right\\rangle} $\n",
    "$ \\newcommand{\\mymatrix}[2]{\\left( \\begin{array}{#1} #2\\end{array} \\right)} $\n",
    "$ \\newcommand{\\myvector}[1]{\\mymatrix{c}{#1}} $\n",
    "$ \\newcommand{\\myrvector}[1]{\\mymatrix{r}{#1}} $\n",
    "$ \\newcommand{\\mypar}[1]{\\left( #1 \\right)} $\n",
    "$ \\newcommand{\\mybigpar}[1]{ \\Big( #1 \\Big)} $\n",
    "$ \\newcommand{\\sqrttwo}{\\frac{1}{\\sqrt{2}}} $\n",
    "$ \\newcommand{\\dsqrttwo}{\\dfrac{1}{\\sqrt{2}}} $\n",
    "$ \\newcommand{\\onehalf}{\\frac{1}{2}} $\n",
    "$ \\newcommand{\\donehalf}{\\dfrac{1}{2}} $\n",
    "$ \\newcommand{\\hadamard}{ \\mymatrix{rr}{ \\sqrttwo & \\sqrttwo \\\\ \\sqrttwo & -\\sqrttwo }} $\n",
    "$ \\newcommand{\\vzero}{\\myvector{1\\\\0}} $\n",
    "$ \\newcommand{\\vone}{\\myvector{0\\\\1}} $\n",
    "$ \\newcommand{\\vhadamardzero}{\\myvector{ \\sqrttwo \\\\  \\sqrttwo } } $\n",
    "$ \\newcommand{\\vhadamardone}{ \\myrvector{ \\sqrttwo \\\\ -\\sqrttwo } } $\n",
    "$ \\newcommand{\\myarray}[2]{ \\begin{array}{#1}#2\\end{array}} $\n",
    "$ \\newcommand{\\X}{ \\mymatrix{cc}{0 & 1 \\\\ 1 & 0}  } $\n",
    "$ \\newcommand{\\Z}{ \\mymatrix{rr}{1 & 0 \\\\ 0 & -1}  } $\n",
    "$ \\newcommand{\\Htwo}{ \\mymatrix{rrrr}{ \\frac{1}{2} & \\frac{1}{2} & \\frac{1}{2} & \\frac{1}{2} \\\\ \\frac{1}{2} & -\\frac{1}{2} & \\frac{1}{2} & -\\frac{1}{2} \\\\ \\frac{1}{2} & \\frac{1}{2} & -\\frac{1}{2} & -\\frac{1}{2} \\\\ \\frac{1}{2} & -\\frac{1}{2} & -\\frac{1}{2} & \\frac{1}{2} } } $\n",
    "$ \\newcommand{\\CNOT}{ \\mymatrix{cccc}{1 & 0 & 0 & 0 \\\\ 0 & 1 & 0 & 0 \\\\ 0 & 0 & 0 & 1 \\\\ 0 & 0 & 1 & 0} } $\n",
    "$ \\newcommand{\\norm}[1]{ \\left\\lVert #1 \\right\\rVert } $"
   ]
  },
  {
   "cell_type": "markdown",
   "metadata": {},
   "source": [
    "<h2>Grover's Search: One Qubit Representation</h2>\n",
    "\n",
    "Grover's search algorithm iteratively applies two reflections (in query and inversion phases).\n",
    "\n",
    "Here, we visually trace the operations in each iteration of Grover's search algorithm on the unit circle. "
   ]
  },
  {
   "cell_type": "markdown",
   "metadata": {},
   "source": [
    "<h3> Representation of data </h3>\n",
    "\n",
    "Suppose that we have 16 elements in our list.\n",
    "\n",
    "Each quantum state will be associated with a different index of the list.\n",
    "\n",
    "Four qubits have 16 different states ($ \\ket{0000}, \\ldots, \\ket{1111} $), and so we use 4 qubits.\n",
    "\n",
    "<i>In general, if we have a list of size $ 2^k $, then we can use $ k $ qubits and associate each state with one of the items in the list.</i>"
   ]
  },
  {
   "cell_type": "markdown",
   "metadata": {},
   "source": [
    "<h3>Search in parallel</h3>\n",
    "\n",
    "We can access each element in the list with one of the basis states.\n",
    "\n",
    "We start in state $ \\ket{0000} $.\n",
    "\n",
    "Then, we apply Hadamard to each qubit.\n",
    "\n",
    "Remember that $ \\ket{0000} = \\ket{0} \\otimes \\ket{0} \\otimes \\ket{0} \\otimes \\ket{0}  $, or equivalently $ \\ket{0000} = \\ket{0}\\ket{0}\\ket{0}\\ket{0} $ by omitting tensor symbol.\n",
    "\n",
    "After Hadamard operator, our quantum state is\n",
    "\n",
    "$ \\ket{u} = H\\ket{0} \\otimes H\\ket{0} \\otimes H\\ket{0} \\otimes H\\ket{0} $, which is\n",
    "\n",
    "$$\n",
    "    \\ket{u} =\n",
    "    \\mypar{ \\frac{1}{\\sqrt{2}} \\ket{0} + \\frac{1}{\\sqrt{2}} \\ket{1}  } \\otimes\n",
    "    \\mypar{ \\frac{1}{\\sqrt{2}} \\ket{0} + \\frac{1}{\\sqrt{2}} \\ket{1}  } \\otimes\n",
    "    \\mypar{ \\frac{1}{\\sqrt{2}} \\ket{0} + \\frac{1}{\\sqrt{2}} \\ket{1}  } \\otimes\n",
    "    \\mypar{ \\frac{1}{\\sqrt{2}} \\ket{0} + \\frac{1}{\\sqrt{2}} \\ket{1}  }.\n",
    "$$"
   ]
  },
  {
   "cell_type": "markdown",
   "metadata": {},
   "source": [
    "From this tensor product, we can get every basis state of 4 qubits having the amplitude $ \\frac{1}{4} $:\n",
    "\n",
    "\n",
    "$$\n",
    "   \\ket{u}= \\frac{1}{4} \\ket{0000} + \\frac{1}{4} \\ket{0001} +  \\frac{1}{4} \\ket{0010} +  \\frac{1}{4} \\ket{0011} \n",
    "   + \\cdots \\cdots +  \\frac{1}{4} \\ket{1101}  +  \\frac{1}{4} \\ket{1110} +  \\frac{1}{4} \\ket{1111}.\n",
    "$$\n",
    " "
   ]
  },
  {
   "cell_type": "markdown",
   "metadata": {},
   "source": [
    "Thus, after Hadamard, we can access each index in parallel, because we are in <u>a superposition of all basis states</u>, or in <u>a superposition of all indices of the list</u>.\n",
    "\n",
    "However, the probability of observing any basis state at this moment is exponentially small: $ \\frac{1}{16} $. \n",
    "\n",
    "(It is $ \\frac{1}{2^k} $ if there are $ 2^k $ elements.)"
   ]
  },
  {
   "cell_type": "markdown",
   "metadata": {},
   "source": [
    "<h3> Unit circle representation</h3>\n",
    "\n",
    "For representing a quantum state $ \\ket{u} $, we need 16-dimensional space.\n",
    "\n",
    "But, we can map $\\ket{u} $ to 2-dimensional space.\n",
    "\n",
    "We have marked elements and unmarked elements. \n",
    "\n",
    "We can group the states associated with marked elements and the states associated with unmarked elements.\n",
    "\n",
    "Then, we can represent $ \\ket{u} $ as a summation of two quantum states $ \\ket{u} = a \\ket{u_{marked}} + b \\ket{u_{unmarked}} $.\n",
    "\n",
    "The states in $ \\ket{u_{marked}} $ and $ \\ket{u_{unmarked}} $ do not have any common nonzero basis state.\n",
    "\n",
    "Therefore, they are orthogonal to each other. \n",
    "\n",
    "We can represent $ \\ket{u} = a \\ket{u_{marked}} + b \\ket{u_{unmarked}} $ in 2-dimensions as below:"
   ]
  },
  {
   "cell_type": "markdown",
   "metadata": {},
   "source": [
    "<img src=\"../images/marked-unmarked.jpg\" width=\"40%\"> "
   ]
  },
  {
   "cell_type": "markdown",
   "metadata": {},
   "source": [
    "Remark that if all elements are marked, then $ \\ket{u} = \\ket{u_{marked}} $, and if all elements are unmarked, then $ \\ket{u} = \\ket{u_{unmarked}}$.\n",
    "\n",
    "For example, if we have 3 marked elements in our example, then we can find our parameters as follows.\n",
    "\n",
    "Let the marked states be $ \\ket{marked1} , \\ket{marked2} , \\ket{marked3} $.\n",
    "\n",
    "Let the unmarked states be $ \\ket{unmarked1} , \\ket{unmarked2} , \\ldots, \\ket{unmarked13} $.\n",
    "\n",
    "In $ \\ket{u} $, each of these states has the amplitude $ \\frac{1}{\\sqrt{16}} $:\n",
    "\n",
    "$$\n",
    "    \\ket{u} = \\frac{1}{\\sqrt{16}} \\mypar{ \\ket{marked1} + \\ket{marked2} + \\ket{marked3} } +\n",
    "            \\frac{1}{\\sqrt{16}} \\mypar{  \\ket{unmarked1} + \\ket{unmarked2} + \\cdots + \\ket{unmarked13} }\n",
    "$$\n",
    "\n",
    "Hence $\\ket{u_{marked}}$ is the equal superposition of the marked states and $\\ket{u_{unmarked}}$ is the equal superposition of the unmarked states."
   ]
  },
  {
   "cell_type": "markdown",
   "metadata": {},
   "source": [
    "<h3> Task 1 </h3>\n",
    "\n",
    "If $ \\frac{1}{\\sqrt{16}} \\mypar{ \\ket{marked1} + \\ket{marked2} + \\ket{marked3} } = a \\ket{u_{marked}} $, then \n",
    "<ul>\n",
    "    <li> find the value of $a$ </li>\n",
    "    <li> and $ \\ket{u_{marked}} $, </li>\n",
    "</ul>\n",
    "where $ u_{marked} $ should be a quantum state (unit vector).\n",
    "\n",
    "If $ \\frac{1}{\\sqrt{16}} \\mypar{  \\ket{unmarked1} + \\ket{unmarked2} + \\cdots + \\ket{unmarked13} } = b \\ket{u_{unmarked}} $, then \n",
    "<ul>\n",
    "    <li> find the value of $b$ </li>\n",
    "    <li> and $ \\ket{u_{unmarked}} $, </li>\n",
    "</ul>\n",
    "where $ u_{unmarked} $ should be a quantum state (unit vector)."
   ]
  },
  {
   "cell_type": "markdown",
   "metadata": {},
   "source": [
    "<a href=\"B88_Grovers_Search_One_Qubit_Representation_Solutions.ipynb#task1\">click for our solution</a>"
   ]
  },
  {
   "cell_type": "markdown",
   "metadata": {},
   "source": [
    "<h3>The idea behind Grover's search</h3>\n",
    "\n",
    "The idea behind Grover's search algorithm is that \n",
    "<ul>\n",
    "    <li> the amplitudes of the marked (less frequent) elements can be quickly amplified, </li>\n",
    "    <li> and so the probability of observing one of the marked elements quickly approches to 1.</li>\n",
    "</ul>\n",
    "\n",
    "For \"quick\" amplification, we iteratively apply two reflections to our quantum states. \n",
    "\n",
    "The effect of two consecutive reflections is a rotation towards $\\ket{u_{marked}}$, so that the amplitudes of the marked elements are amplified."
   ]
  },
  {
   "cell_type": "markdown",
   "metadata": {},
   "source": [
    "<h3> One iteration of the algorithm </h3>\n",
    "\n",
    "Once we have the unit circle representation, then we can describe the algorithm very easily.\n",
    "\n",
    "Recall the two phases of the iteration. Each one of the two phases correspond to reflections."
   ]
  },
  {
   "cell_type": "markdown",
   "metadata": {},
   "source": [
    "The axis of the first reflection is the quantum state $ \\ket{u_{unmarked}} $.\n",
    "\n",
    "The axis of the second reflection is the first quantum state after Hadamard operators: $ \\ket{u} $.\n",
    "\n",
    "During all iterations, these axes are fixed. \n",
    "\n",
    "Remark that both of them depend on only the list and marked/unmarked elements."
   ]
  },
  {
   "cell_type": "markdown",
   "metadata": {},
   "source": [
    "<img src=\"../images/reflection_axes.jpg\" width=\"70%\">"
   ]
  },
  {
   "cell_type": "markdown",
   "metadata": {},
   "source": [
    "<b> Grover's search algorithm: </b>\n",
    "\n",
    "Start in $ \\ket{u} $.\n",
    "\n",
    "Iteratively:\n",
    "<ol>\n",
    "    <li>Reflection over the first axis: Flip the sign of the states associated with the marked elements.\n",
    "    </li> \n",
    "    <li>Reflection over the second axis: Then, reflect the resulting quantum state over the $\\ket{u}$-axis.\n",
    "    </li>\n",
    "</ol>"
   ]
  },
  {
   "cell_type": "markdown",
   "metadata": {},
   "source": [
    "After the first reflection our state is $\\ket{u_{reflected}}$ \n",
    "\n",
    "<img src=\"../images/grover_first_reflection.jpg\" width=\"70%\">"
   ]
  },
  {
   "cell_type": "markdown",
   "metadata": {},
   "source": [
    "After the second reflection our state is $\\ket{u_{new}}$\n",
    "\n",
    "<img src=\"../images/grover_second_reflection.jpg\" width=\"70%\">\n",
    "\n",
    "As it is seen from the diagram, the angle of the new quantum state is $ 3 \\theta $."
   ]
  },
  {
   "cell_type": "markdown",
   "metadata": {},
   "source": [
    "If we continue one more iteration:\n",
    "<ul>\n",
    "    <li> We start with the quantum state whose angle is $ 3 \\theta $. </li>\n",
    "    <li> After the first reflection, the reflected quantum state has angle $ -3 \\theta $. </li>\n",
    "    <li> The angle between the reflected quantum state and the second reflection axis is $ 4 \\theta $.\n",
    "    <li> After the second reflection, the angle of the newest state will be $ 5\\theta $. </li>\n",
    "</ul>\n",
    "\n",
    "<b>Hence, after each iteration the angle of the quantum state will be increased by $ 2 \\theta $.</b>\n",
    "\n",
    "<i>In fact, two reflections correspond to a rotation. (Go back and check reflections notebook.) Each iteration rotates the initial state by $2 \\theta$ towards $\\ket{u_{marked}}$.</i> \n"
   ]
  },
  {
   "cell_type": "markdown",
   "metadata": {},
   "source": [
    "<h3> The number of iterations </h3>\n",
    "\n",
    "At each iteration, the state is rotated with the angle $2 \\theta$ from $\\ket{u_{unmarked}}$ towards $\\ket{u_{marked}}$. In this way, the quantum state iteratively approaches to $ \\ket{u_{marked}} $.\n",
    "\n",
    "If we do not stop the iterations, then it passes  $ \\ket{u_{marked}} $, and starts to approach $ - \\ket{u_{unmarked}} $.\n",
    "\n",
    "If we make a measurement when the quantum state is sufficiently close to $ \\ket{u_{marked}} $, we can observe a marked element with high probability.\n",
    "\n",
    "This is also the time to stop the iterations.\n",
    "\n",
    "Roughly, if there is a single marked element in a list of size $ N $, then we need $\\dfrac{\\pi / 2}{2\\theta}$ iterations. The calculations show that $\\theta \\sim \\dfrac{1}{\\sqrt{N}}$.\n",
    "\n",
    "Hence, after $ \\pi \\dfrac{\\sqrt{N}}{4} $ iterations, the marked element can be obtained with high probability.\n",
    "\n",
    "If there are $k$ marked elements, then it is better to iterate $ \\pi \\dfrac{\\sqrt{\\frac{N}{k}}}{4} $ times.\n",
    "\n",
    "If $k$ is unknown, then we can execute the algorithm with different iterations. One way of doing this is to iterate the algorithm  \n",
    "\n",
    "$$ \\pi \\dfrac{\\sqrt{\\frac{N}{1}}}{4}, \\pi \\dfrac{\\sqrt{\\frac{N}{2}}}{4}, \\pi \\dfrac{\\sqrt{\\frac{N}{4}}}{4}, \\pi \\dfrac{\\sqrt{\\frac{N}{8}}}{4}, \\ldots $$ times. \n",
    "\n",
    "The total number of iterations will still be proportional to $ \\pi \\dfrac{\\sqrt{N}}{4} $: $ O \\Big( \\pi \\dfrac{\\sqrt{N}}{4} \\Big) $.\n"
   ]
  },
  {
   "cell_type": "markdown",
   "metadata": {},
   "source": [
    "<h3>Geometrical simulation of Grover's search</h3>"
   ]
  },
  {
   "cell_type": "markdown",
   "metadata": {},
   "source": [
    "We will simulate the Grover's search geometrically for visualization."
   ]
  },
  {
   "cell_type": "markdown",
   "metadata": {},
   "source": [
    "\n",
    "We let $k=4$ and $N=2^k=16$ and the number of the marked elements as $m=3$.\n",
    "\n",
    "$ \\ket{u} = \\sqrt{\\frac{3}{16}} \\ket{u_{marked}} + \\sqrt{\\frac{13}{16}} \\ket{u_{unmarked}} $.\n",
    "\n",
    "<i> In general, if we have $ 2^k $ elements and $ m $ of them are marked, then $ a = \\frac{\\sqrt{m}}{\\sqrt{2^k}} $ and  $ b= \\frac{\\sqrt{2^k - m}}{\\sqrt{2^k}} $. </i>"
   ]
  },
  {
   "cell_type": "markdown",
   "metadata": {},
   "source": [
    "We create a quantum circuit with single qubit and suppose that the states $ \\ket{1} $ and $ \\ket{0} $ represent the quantum states $ \\ket{u_{marked}} $ and $ \\ket{u_{unmarked}}$, respectively.\n",
    "\n",
    "Then, $ \\ket{u} = \\sqrt{\\frac{13}{16}} \\ket{0} + \\sqrt{\\frac{3}{16}} \\ket{1} $.\n",
    "\n",
    "We determine the angle $ \\theta $, the angle between $ \\ket{u} $ and $ \\ket{0} $.\n",
    "\n",
    "We rotate thw qubit by $2\\theta$ once.\n",
    "\n",
    "Is this single iteration enough to observe state $ \\ket{1} $ more than state $ \\ket{0} $? "
   ]
  },
  {
   "cell_type": "code",
   "execution_count": 1,
   "metadata": {},
   "outputs": [
    {
     "name": "stdout",
     "output_type": "stream",
     "text": [
      "{'0': 4, '1': 96}\n"
     ]
    }
   ],
   "source": [
    "# include our predefined functions\n",
    "%run qlatvia.py\n",
    "\n",
    "# import all necessary objects and methods for quantum circuits\n",
    "from qiskit import QuantumRegister, ClassicalRegister, QuantumCircuit, execute, Aer\n",
    "from math import acos, pi\n",
    "# after Hadamard operators\n",
    "u = [(13/16)**0.5,(3/16)**0.5]\n",
    "\n",
    "def angle_between_two_states(u1,u2):\n",
    "    dot_product = u1[0]*u2[0]+u1[1]*u2[1]\n",
    "    return acos(dot_product)\n",
    "\n",
    "theta = angle_between_two_states(u,[1,0])\n",
    "\n",
    "all_visited_quantum_states =[]\n",
    "\n",
    "\n",
    "qreg2 = QuantumRegister(1) # quantum register with 1 qubit\n",
    "creg2 = ClassicalRegister(1) # classical register with 1 bit\n",
    "mycircuit2 = QuantumCircuit(qreg2,creg2) # quantum circuit with quantum and classical registers\n",
    "\n",
    "\n",
    "# set the qubit to |u> by rotating it by theta\n",
    "mycircuit2.ry(2*theta,qreg2[0])\n",
    "\n",
    "# read and store the current quantum state\n",
    "current_state = execute(mycircuit2,Aer.get_backend('statevector_simulator')).result().get_statevector(mycircuit2)\n",
    "[x,y] = [current_state[0].real,current_state[1].real]\n",
    "all_visited_quantum_states.append([x,y,'u'])\n",
    "\n",
    "\n",
    "# first iteration\n",
    "theta = angle_between_two_states([x,y],[1,0])\n",
    "mycircuit2.ry(2*2*theta,qreg2[0])\n",
    "\n",
    "# read and store the current quantum state\n",
    "current_state = execute(mycircuit2,Aer.get_backend('statevector_simulator')).result().get_statevector(mycircuit2)\n",
    "[x,y] = [current_state[0].real,current_state[1].real]\n",
    "all_visited_quantum_states.append([x,y,'r'])\n",
    "\n",
    "\n",
    "# measure the qubit\n",
    "mycircuit2.measure(qreg2,creg2)\n",
    "    \n",
    "    \n",
    "# execute the circuit 100 times, and print the outcomes\n",
    "job = execute(mycircuit2,Aer.get_backend('qasm_simulator'),shots=100)\n",
    "counts2 = job.result().get_counts(mycircuit2)\n",
    "print(counts2)\n",
    "\n",
    "# visualization\n",
    "draw_qubit()\n",
    "for quantum_state in all_visited_quantum_states:\n",
    "    draw_quantum_state(quantum_state[0],quantum_state[1],quantum_state[2])\n"
   ]
  },
  {
   "cell_type": "markdown",
   "metadata": {},
   "source": [
    "Now we set the value of $ k $ to 6. Then, the size of list is $ 2^k = 64 $.\n",
    "\n",
    "Pick the value of $ m $ as 1, the number of the marked elements.\n",
    "\n",
    "As described above, $ \\ket{u} = \\sqrt{\\frac{1}{64}} \\ket{u_{marked}} + \\sqrt{\\frac{63}{64}} \\ket{u_{unmarked}} $.\n",
    "\n",
    "Suppose that the states $ \\ket{1} $ and $ \\ket{0} $ represent the quantum states $ \\ket{u_{marked}} $ and $ \\ket{u_{unmarked}}$, respectively.\n",
    "\n",
    "Then, $ \\ket{u} = \\sqrt{\\frac{63}{64}} \\ket{0} + \\sqrt{\\frac{1}{64}} \\ket{1} $.\n",
    "\n",
    "Now let us iterate Grover's search algorithm upto ten iterations by using your quantum circuit.</b>\n",
    "\n",
    "What is the best number of iterations?"
   ]
  },
  {
   "cell_type": "code",
   "execution_count": 2,
   "metadata": {},
   "outputs": [
    {
     "name": "stdout",
     "output_type": "stream",
     "text": [
      "{'0': 95, '1': 5}\n"
     ]
    },
    {
     "data": {
      "image/png": "[encoded data removed]",
      "text/plain": [
       "<Figure size 360x360 with 1 Axes>"
      ]
     },
     "metadata": {
      "needs_background": "light"
     },
     "output_type": "display_data"
    }
   ],
   "source": [
    "# include our predefined functions\n",
    "%run qlatvia.py\n",
    "\n",
    "# import all necessary objects and methods for quantum circuits\n",
    "from qiskit import QuantumRegister, ClassicalRegister, QuantumCircuit, execute, Aer\n",
    "from math import acos, pi\n",
    "# after Hadamard operators\n",
    "u = [(63/64)**0.5,(1/64)**0.5]\n",
    "\n",
    "def angle_between_two_states(u1,u2):\n",
    "    dot_product = u1[0]*u2[0]+u1[1]*u2[1]\n",
    "    return acos(dot_product)\n",
    "\n",
    "theta = angle_between_two_states(u,[1,0])\n",
    "\n",
    "all_visited_quantum_states =[]\n",
    "\n",
    "\n",
    "qreg3 = QuantumRegister(1) # quantum register with 1 qubit\n",
    "creg3 = ClassicalRegister(1) # classical register with 1 bit\n",
    "mycircuit3 = QuantumCircuit(qreg3,creg3) # quantum circuit with quantum and classical registers\n",
    "\n",
    "\n",
    "# set the qubit to |u> by rotating it by theta\n",
    "mycircuit3.ry(2*theta,qreg3[0])\n",
    "\n",
    "# read and store the current quantum state\n",
    "current_state = execute(mycircuit3,Aer.get_backend('statevector_simulator')).result().get_statevector(mycircuit3)\n",
    "[x,y] = [current_state[0].real,current_state[1].real]\n",
    "all_visited_quantum_states.append([x,y,'u'])\n",
    "\n",
    "\n",
    "# three iterations\n",
    "for i in range(11):\n",
    "    \n",
    "    mycircuit3.ry(2*2*theta,qreg3[0])\n",
    "\n",
    "    # read and store the current quantum state\n",
    "    current_state = execute(mycircuit3,Aer.get_backend('statevector_simulator')).result().get_statevector(mycircuit3)\n",
    "    [x,y] = [current_state[0].real,current_state[1].real]\n",
    "    all_visited_quantum_states.append([x,y,'r'+str(i+1)])\n",
    "    \n",
    "# measure the qubit\n",
    "mycircuit3.measure(qreg3,creg3)\n",
    "    \n",
    "    \n",
    "# execute the circuit 100 times, and print the outcomes\n",
    "job = execute(mycircuit3,Aer.get_backend('qasm_simulator'),shots=100)\n",
    "counts3 = job.result().get_counts(mycircuit3)\n",
    "print(counts3)\n",
    "\n",
    "# visualization\n",
    "draw_qubit()\n",
    "for quantum_state in all_visited_quantum_states:\n",
    "    draw_quantum_state(quantum_state[0],quantum_state[1],quantum_state[2])\n",
    "\n"
   ]
  },
  {
   "cell_type": "markdown",
   "metadata": {},
   "source": [
    "<h3>Mathematical reasoning (Optional)</h3>\n",
    "\n",
    "If you are curious about why the sign flip and inversion about the mean operators correspond to reflections, you can check the following.\n",
    "\n",
    "<h4>Query phase</h4>\n",
    "<ul>\n",
    "    <li>Show that $O=I-2\\ket{u_{marked}}\\bra{u_{marked}}$ is the operator for the sign flip. </li>\n",
    "    \n",
    "<li>Show that  $-\\mathrm{Ref}(\\theta)=\\mathrm{Ref}(\\theta+\\frac{\\pi}{2})$.\n",
    "<li>Go back to the Reflections notebook and check the matrix for reflection over $\\theta$ where $\\theta$ is the angle of some quantum state $y$.\n",
    "<li>Convince yourself that $O=\\mathrm{Ref}(\\theta_{unmarked})$ where $\\theta_{unmarked}$ is the angle of the state $\\ket{u}_{unmarked}$. \n",
    "<li>Conclude that the first operator is a <b>reflection</b> over the state $\\ket{u_{unmarked}}$\n",
    "</ul>\n",
    "<h4>Inversion phase</h4>\n",
    "\n",
    "<ul>\n",
    "<li>Recall that $D=2\\ket{u}\\bra{u}-I$ where $D$ is the inversion operator and $\\ket{u}$ is the equal supoerposition state obtained by applying Hadamard to the initial quantum state. \n",
    "<li>Go back to the Reflections notebook and check the matrix for reflection over $\\theta$ where $\\theta$ is the angle of some quantum state $y$.\n",
    "<li>Convince yourself that $D=2\\ket{u}\\bra{u}-I = \\mathrm{Ref}(\\theta_{u})$ where $\\theta_u$ is the angle of the state $\\ket{u}$.\n",
    "<li>Conclude that the second operator is a <b>reflection</b> over the state $\\ket{u}$.\n",
    "</ul>"
   ]
  },
  {
   "cell_type": "code",
   "execution_count": null,
   "metadata": {},
   "outputs": [],
   "source": []
  },
  {
   "cell_type": "code",
   "execution_count": null,
   "metadata": {},
   "outputs": [],
   "source": []
  },
  {
   "cell_type": "code",
   "execution_count": null,
   "metadata": {},
   "outputs": [],
   "source": []
  },
  {
   "cell_type": "code",
   "execution_count": null,
   "metadata": {},
   "outputs": [],
   "source": []
  }
 ],
 "metadata": {
  "kernelspec": {
   "display_name": "Python 3",
   "language": "python",
   "name": "python3"
  },
  "language_info": {
   "codemirror_mode": {
    "name": "ipython",
    "version": 3
   },
   "file_extension": ".py",
   "mimetype": "text/x-python",
   "name": "python",
   "nbconvert_exporter": "python",
   "pygments_lexer": "ipython3",
   "version": "3.7.4"
  }
 },
 "nbformat": 4,
 "nbformat_minor": 4
}
