{
 "cells": [
  {
   "cell_type": "markdown",
   "metadata": {},
   "source": [
    "<table>\n",
    "    <tr><td align=\"right\" style=\"background-color:#ffffff;\">\n",
    "        <img src=\"../images/logo.jpg\" width=\"20%\" align=\"right\">\n",
    "    </td></tr>\n",
    "    <tr><td align=\"right\" style=\"color:#777777;background-color:#ffffff;font-size:12px;\">\n",
    "        Prepared by Abuzer Yakaryilmaz<br>\n",
    "        Utku Birkan | September 16, 2019 (updated)<br>\n",
    "        Özlem Salehi | September 20, 2019 (updated)\n",
    "    </td></tr>\n",
    "    <tr><td align=\"right\" style=\"color:#bbbbbb;background-color:#ffffff;font-size:11px;font-style:italic;\">\n",
    "        This cell contains some macros. If there is a problem with displaying mathematical formulas, please run this cell to load these macros.\n",
    "    </td></tr>\n",
    "</table>\n",
    "$ \\newcommand{\\bra}[1]{\\langle #1|} $\n",
    "$ \\newcommand{\\ket}[1]{|#1\\rangle} $\n",
    "$ \\newcommand{\\braket}[2]{\\langle #1|#2\\rangle} $\n",
    "$ \\newcommand{\\dot}[2]{ #1 \\cdot #2} $\n",
    "$ \\newcommand{\\biginner}[2]{\\left\\langle #1,#2\\right\\rangle} $\n",
    "$ \\newcommand{\\mymatrix}[2]{\\left( \\begin{array}{#1} #2\\end{array} \\right)} $\n",
    "$ \\newcommand{\\myvector}[1]{\\mymatrix{c}{#1}} $\n",
    "$ \\newcommand{\\myrvector}[1]{\\mymatrix{r}{#1}} $\n",
    "$ \\newcommand{\\mypar}[1]{\\left( #1 \\right)} $\n",
    "$ \\newcommand{\\mybigpar}[1]{ \\Big( #1 \\Big)} $\n",
    "$ \\newcommand{\\sqrttwo}{\\frac{1}{\\sqrt{2}}} $\n",
    "$ \\newcommand{\\dsqrttwo}{\\dfrac{1}{\\sqrt{2}}} $\n",
    "$ \\newcommand{\\onehalf}{\\frac{1}{2}} $\n",
    "$ \\newcommand{\\donehalf}{\\dfrac{1}{2}} $\n",
    "$ \\newcommand{\\hadamard}{ \\mymatrix{rr}{ \\sqrttwo & \\sqrttwo \\\\ \\sqrttwo & -\\sqrttwo }} $\n",
    "$ \\newcommand{\\vzero}{\\myvector{1\\\\0}} $\n",
    "$ \\newcommand{\\vone}{\\myvector{0\\\\1}} $\n",
    "$ \\newcommand{\\vhadamardzero}{\\myvector{ \\sqrttwo \\\\  \\sqrttwo } } $\n",
    "$ \\newcommand{\\vhadamardone}{ \\myrvector{ \\sqrttwo \\\\ -\\sqrttwo } } $\n",
    "$ \\newcommand{\\myarray}[2]{ \\begin{array}{#1}#2\\end{array}} $\n",
    "$ \\newcommand{\\X}{ \\mymatrix{cc}{0 & 1 \\\\ 1 & 0}  } $\n",
    "$ \\newcommand{\\Z}{ \\mymatrix{rr}{1 & 0 \\\\ 0 & -1}  } $\n",
    "$ \\newcommand{\\Htwo}{ \\mymatrix{rrrr}{ \\frac{1}{2} & \\frac{1}{2} & \\frac{1}{2} & \\frac{1}{2} \\\\ \\frac{1}{2} & -\\frac{1}{2} & \\frac{1}{2} & -\\frac{1}{2} \\\\ \\frac{1}{2} & \\frac{1}{2} & -\\frac{1}{2} & -\\frac{1}{2} \\\\ \\frac{1}{2} & -\\frac{1}{2} & -\\frac{1}{2} & \\frac{1}{2} } } $\n",
    "$ \\newcommand{\\CNOT}{ \\mymatrix{cccc}{1 & 0 & 0 & 0 \\\\ 0 & 1 & 0 & 0 \\\\ 0 & 0 & 0 & 1 \\\\ 0 & 0 & 1 & 0} } $\n",
    "$ \\newcommand{\\norm}[1]{ \\left\\lVert #1 \\right\\rVert } $"
   ]
  },
  {
   "cell_type": "markdown",
   "metadata": {},
   "source": [
    "<h2> Initializing a qubit with an arbitrary state </h2>"
   ]
  },
  {
   "cell_type": "markdown",
   "metadata": {},
   "source": [
    "\n",
    "Qiskit circuits have a built in method called initialize which allows starting from a specifed state instead of having all qubits start as 0. \n",
    "\n",
    "Note that the state should be a valid quantum state and the length of the vector should match the number of qubits. If not, exception is raised."
   ]
  },
  {
   "cell_type": "markdown",
   "metadata": {},
   "source": [
    "Let's create a quantum circuit with two qubits and initialize it by setting equal probabilities to each outcome."
   ]
  },
  {
   "cell_type": "code",
   "execution_count": 3,
   "metadata": {},
   "outputs": [
    {
     "data": {
      "image/png": "[encoded data removed]",
      "text/plain": [
       "<Figure size 408.156x204.68 with 1 Axes>"
      ]
     },
     "execution_count": 3,
     "metadata": {},
     "output_type": "execute_result"
    }
   ],
   "source": [
    "from qiskit import QuantumRegister, ClassicalRegister, QuantumCircuit, execute, Aer\n",
    "from math import pi\n",
    "\n",
    "# we define a quantum circuit with two qubits and two bits\n",
    "qreg1 =  QuantumRegister(2) # quantum register with two qubits\n",
    "creg1 = ClassicalRegister(2) # classical register with two bits\n",
    "mycircuit1 = QuantumCircuit(qreg1,creg1) # quantum circuit with quantum and classical registers\n",
    "\n",
    "# initialization\n",
    "init_state=[1/2,1/2,1/2,1/2]\n",
    "mycircuit1.initialize(init_state,qreg1)\n",
    "\n",
    "# measure the qubits\n",
    "mycircuit1.measure(qreg1,creg1)\n",
    "\n",
    "# draw the circuit\n",
    "mycircuit1.draw(output='mpl')"
   ]
  },
  {
   "cell_type": "code",
   "execution_count": 4,
   "metadata": {},
   "outputs": [
    {
     "name": "stdout",
     "output_type": "stream",
     "text": [
      "{'11': 250, '00': 245, '01': 245, '10': 260}\n"
     ]
    }
   ],
   "source": [
    "# execute the program 1000 times\n",
    "job = execute(mycircuit1,Aer.get_backend('qasm_simulator'),shots=1000)\n",
    "\n",
    "# print the results\n",
    "counts = job.result().get_counts(mycircuit1)\n",
    "print(counts) # counts is a dictionary"
   ]
  },
  {
   "cell_type": "markdown",
   "metadata": {},
   "source": [
    "<h3>Task 1</h3>\n",
    "\n",
    "Create a quantum circuit with a single qubit. Use the function you have written for creating random quantum states in the notebook <a href=\"../B28_Quantum_State.ipynb\">Quantum States</a> and initilize your qubit to a random state. Use statevector simulator to check if you are successfull.\n",
    "\n"
   ]
  },
  {
   "cell_type": "code",
   "execution_count": 7,
   "metadata": {},
   "outputs": [],
   "source": [
    "# %load randqstate.py\n",
    "from random import randrange\n",
    "\n",
    "# randomly creating a 2-dimensional quantum state\n",
    "def random_quantum_state():\n",
    "    first_entry = randrange(100)\n",
    "    second_entry = randrange(100)\n",
    "    \n",
    "    length=(first_entry**2 + second_entry**2)**0.5\n",
    "    first_entry = (first_entry/length)\n",
    "    second_entry = (second_entry/length)\n",
    "    if randrange(2) == 0: # determine the sign\n",
    "        first_entry = -1 * first_entry\n",
    "    \n",
    "    if randrange(2) == 0: # determine the sign\n",
    "        second_entry = -1 * second_entry  \n",
    "    return [first_entry,second_entry]\n"
   ]
  },
  {
   "cell_type": "code",
   "execution_count": 8,
   "metadata": {},
   "outputs": [
    {
     "name": "stdout",
     "output_type": "stream",
     "text": [
      "[-0.9998740474835989, 0.015871016626723793]\n",
      "[-0.99987405+0.j  0.01587102+0.j]\n"
     ]
    }
   ],
   "source": [
    "from qiskit import QuantumRegister, ClassicalRegister, QuantumCircuit, execute, Aer\n",
    "\n",
    "#\n",
    "qreg1 =  QuantumRegister(1) # quantum register with a single qubit\n",
    "creg1 = ClassicalRegister(1) # classical register with a single bit\n",
    "mycircuit1 = QuantumCircuit(qreg1,creg1) # quantum circuit with quantum and classical registers\n",
    "\n",
    "#get a random quantum state\n",
    "rand_state=random_quantum_state()\n",
    "print(rand_state)\n",
    "\n",
    "#initialization\n",
    "mycircuit1.initialize(rand_state,qreg1)\n",
    "\n",
    "# Execute and get counts\n",
    "job = execute(mycircuit1, Aer.get_backend('statevector_simulator'))\n",
    "statevector = job.result().get_statevector(mycircuit1)\n",
    "print(statevector)\n",
    "#"
   ]
  },
  {
   "cell_type": "markdown",
   "metadata": {},
   "source": [
    "<a href=\"B32_Initializing_a_Qubit_Solutions.ipynb#task1\">click for our solution</a>"
   ]
  },
  {
   "cell_type": "markdown",
   "metadata": {},
   "source": [
    "### Task 2\n",
    "\n",
    "Create a quantum circuit with a single qubit. Choose a random angle $\\theta$ and use the function you have written for creating random quantum states in the notebook <a href=\"../B30_Visualization_of_a_Qubit.ipynb\">Visualization of a Qubit</a>. Use statevector simulator to check if you are successfull."
   ]
  },
  {
   "cell_type": "code",
   "execution_count": 13,
   "metadata": {},
   "outputs": [],
   "source": [
    "# %load randqstate2.py\n",
    "\n",
    "# randomly create a 2-dimensional quantum state\n",
    "from math import cos, sin, pi\n",
    "from random import randrange\n",
    "\n",
    "def random_quantum_statea(angle_degree):\n",
    "    angle_radian = 2*pi*angle_degree/360\n",
    "    return [cos(angle_radian),sin(angle_radian)]\n",
    "    \n"
   ]
  },
  {
   "cell_type": "code",
   "execution_count": 14,
   "metadata": {},
   "outputs": [
    {
     "name": "stdout",
     "output_type": "stream",
     "text": [
      "Quantum state:\n",
      "[0.12186934340514749, 0.992546151641322]\n",
      "Statevector:\n",
      "[0.12186934+0.j 0.99254615+0.j]\n"
     ]
    }
   ],
   "source": [
    "from qiskit import QuantumRegister, ClassicalRegister, QuantumCircuit, execute, Aer\n",
    "from math import pi\n",
    "\n",
    "#\n",
    "from qiskit import QuantumRegister, ClassicalRegister, QuantumCircuit, execute, Aer\n",
    "from math import pi, atan, sqrt, sin, cos\n",
    "from random import randrange\n",
    "\n",
    "# Create a quantum circuit\n",
    "qreg = QuantumRegister(1)\n",
    "creg = ClassicalRegister(1)\n",
    "circuit = QuantumCircuit(qreg,creg)\n",
    "\n",
    "angle_degree = randrange(360)\n",
    "state=random_quantum_statea(angle_degree)\n",
    "\n",
    "print(\"Quantum state:\")\n",
    "print(state)\n",
    "\n",
    "# Initialize circuit\n",
    "circuit.initialize(state, qreg)\n",
    "\n",
    "# Now execute this circuit\n",
    "job = execute(circuit, Aer.get_backend('statevector_simulator'))\n",
    "statevector = job.result().get_statevector(circuit)\n",
    "print(\"Statevector:\")\n",
    "print(statevector)\n",
    "#"
   ]
  },
  {
   "cell_type": "markdown",
   "metadata": {},
   "source": [
    "<a href=\"B32_Initializing_a_Qubit_Solutions.ipynb#task2\">click for our solution</a>"
   ]
  }
 ],
 "metadata": {
  "kernelspec": {
   "display_name": "Python 3",
   "language": "python",
   "name": "python3"
  },
  "language_info": {
   "codemirror_mode": {
    "name": "ipython",
    "version": 3
   },
   "file_extension": ".py",
   "mimetype": "text/x-python",
   "name": "python",
   "nbconvert_exporter": "python",
   "pygments_lexer": "ipython3",
   "version": "3.7.4"
  }
 },
 "nbformat": 4,
 "nbformat_minor": 4
}
