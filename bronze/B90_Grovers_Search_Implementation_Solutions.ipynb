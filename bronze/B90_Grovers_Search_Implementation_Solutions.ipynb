{
 "cells": [
  {
   "cell_type": "markdown",
   "metadata": {},
   "source": [
    "<table>\n",
    "    <tr><td align=\"right\" style=\"background-color:#ffffff;\">\n",
    "        <img src=\"../images/logo.jpg\" width=\"20%\" align=\"right\">\n",
    "    </td></tr>\n",
    "    <tr><td align=\"right\" style=\"color:#777777;background-color:#ffffff;font-size:12px;\">\n",
    "        Prepared by Maksim Dimitrijev and Özlem Salehi | October 02, 2019 (updated)\n",
    "    </td></tr>\n",
    "    <tr><td align=\"right\" style=\"color:#bbbbbb;background-color:#ffffff;font-size:11px;font-style:italic;\">\n",
    "        This cell contains some macros. If there is a problem with displaying mathematical formulas, please run this cell to load these macros.\n",
    "    </td></tr>\n",
    "</table>\n",
    "$ \\newcommand{\\bra}[1]{\\langle #1|} $\n",
    "$ \\newcommand{\\ket}[1]{|#1\\rangle} $\n",
    "$ \\newcommand{\\braket}[2]{\\langle #1|#2\\rangle} $\n",
    "$ \\newcommand{\\dot}[2]{ #1 \\cdot #2} $\n",
    "$ \\newcommand{\\biginner}[2]{\\left\\langle #1,#2\\right\\rangle} $\n",
    "$ \\newcommand{\\mymatrix}[2]{\\left( \\begin{array}{#1} #2\\end{array} \\right)} $\n",
    "$ \\newcommand{\\myvector}[1]{\\mymatrix{c}{#1}} $\n",
    "$ \\newcommand{\\myrvector}[1]{\\mymatrix{r}{#1}} $\n",
    "$ \\newcommand{\\mypar}[1]{\\left( #1 \\right)} $\n",
    "$ \\newcommand{\\mybigpar}[1]{ \\Big( #1 \\Big)} $\n",
    "$ \\newcommand{\\sqrttwo}{\\frac{1}{\\sqrt{2}}} $\n",
    "$ \\newcommand{\\dsqrttwo}{\\dfrac{1}{\\sqrt{2}}} $\n",
    "$ \\newcommand{\\onehalf}{\\frac{1}{2}} $\n",
    "$ \\newcommand{\\donehalf}{\\dfrac{1}{2}} $\n",
    "$ \\newcommand{\\hadamard}{ \\mymatrix{rr}{ \\sqrttwo & \\sqrttwo \\\\ \\sqrttwo & -\\sqrttwo }} $\n",
    "$ \\newcommand{\\vzero}{\\myvector{1\\\\0}} $\n",
    "$ \\newcommand{\\vone}{\\myvector{0\\\\1}} $\n",
    "$ \\newcommand{\\vhadamardzero}{\\myvector{ \\sqrttwo \\\\  \\sqrttwo } } $\n",
    "$ \\newcommand{\\vhadamardone}{ \\myrvector{ \\sqrttwo \\\\ -\\sqrttwo } } $\n",
    "$ \\newcommand{\\myarray}[2]{ \\begin{array}{#1}#2\\end{array}} $\n",
    "$ \\newcommand{\\X}{ \\mymatrix{cc}{0 & 1 \\\\ 1 & 0}  } $\n",
    "$ \\newcommand{\\Z}{ \\mymatrix{rr}{1 & 0 \\\\ 0 & -1}  } $\n",
    "$ \\newcommand{\\Htwo}{ \\mymatrix{rrrr}{ \\frac{1}{2} & \\frac{1}{2} & \\frac{1}{2} & \\frac{1}{2} \\\\ \\frac{1}{2} & -\\frac{1}{2} & \\frac{1}{2} & -\\frac{1}{2} \\\\ \\frac{1}{2} & \\frac{1}{2} & -\\frac{1}{2} & -\\frac{1}{2} \\\\ \\frac{1}{2} & -\\frac{1}{2} & -\\frac{1}{2} & \\frac{1}{2} } } $\n",
    "$ \\newcommand{\\CNOT}{ \\mymatrix{cccc}{1 & 0 & 0 & 0 \\\\ 0 & 1 & 0 & 0 \\\\ 0 & 0 & 0 & 1 \\\\ 0 & 0 & 1 & 0} } $\n",
    "$ \\newcommand{\\norm}[1]{ \\left\\lVert #1 \\right\\rVert } $"
   ]
  },
  {
   "cell_type": "markdown",
   "metadata": {},
   "source": [
    "<h2> <font color=\"blue\"> Solutions for </font>Grover's Search Implementation</h2>"
   ]
  },
  {
   "cell_type": "markdown",
   "metadata": {},
   "source": [
    "<a id=\"task1\"></a>\n",
    "<h3>Task 1</h3>"
   ]
  },
  {
   "cell_type": "markdown",
   "metadata": {},
   "source": [
    "Let $N=4$. Implement the query phase and check the unitary matrix for the query operator. Note that we are interested in the top-left $4 \\times 4$ part of the matrix since the remaining parts are due to the ancilla qubit."
   ]
  },
  {
   "cell_type": "markdown",
   "metadata": {},
   "source": [
    "First run the following cell to load operator $U_f$. You can access it via:\n",
    "\n",
    "   f(circuit,qreg)."
   ]
  },
  {
   "cell_type": "code",
   "execution_count": 1,
   "metadata": {},
   "outputs": [],
   "source": [
    "%run f.py"
   ]
  },
  {
   "cell_type": "markdown",
   "metadata": {},
   "source": [
    "Now let's use phase kickback to flip the sign of the marked element:\n",
    "\n",
    "<ul>\n",
    "    <li>Set ancilla qubit to $\\ket{-}$ by applying X and H.</li>\n",
    "    <li>Apply operator $U_f$ by calling function $f$\n",
    "    <li>Set ancilla qubit back.</li>\n",
    "</ul>"
   ]
  },
  {
   "cell_type": "markdown",
   "metadata": {},
   "source": [
    "Can you guess the marked elemeny by looking at the unitary matrix?"
   ]
  },
  {
   "cell_type": "code",
   "execution_count": 11,
   "metadata": {},
   "outputs": [
    {
     "name": "stdout",
     "output_type": "stream",
     "text": [
      "  1.0  0.0  0.0  0.0  0.0  0.0  0.0  0.0\n",
      "  0.0 -1.0  0.0  0.0  0.0  0.0  0.0  0.0\n",
      "  0.0  0.0  1.0  0.0  0.0  0.0  0.0  0.0\n",
      "  0.0  0.0  0.0  1.0  0.0  0.0  0.0  0.0\n",
      "  0.0  0.0  0.0  0.0  1.0  0.0  0.0  0.0\n",
      "  0.0  0.0  0.0  0.0  0.0  1.0  0.0  0.0\n",
      "  0.0  0.0  0.0  0.0  0.0  0.0  1.0  0.0\n",
      "  0.0  0.0  0.0  0.0  0.0  0.0  0.0  1.0\n"
     ]
    },
    {
     "data": {
      "image/png": "[encoded data removed]",
      "text/plain": [
       "<Figure size 468.356x264.88 with 1 Axes>"
      ]
     },
     "execution_count": 11,
     "metadata": {},
     "output_type": "execute_result"
    }
   ],
   "source": [
    "from qiskit import QuantumRegister, ClassicalRegister, QuantumCircuit, execute, Aer\n",
    "\n",
    "qreg = QuantumRegister(3)\n",
    "creg = ClassicalRegister(3)\n",
    "\n",
    "mycircuit = QuantumCircuit(qreg,creg)\n",
    "\n",
    "\n",
    "#set ancilla\n",
    "mycircuit.x(qreg[2])\n",
    "mycircuit.h(qreg[2])\n",
    "\n",
    "f(mycircuit,qreg)  \n",
    "    \n",
    "#set ancilla back\n",
    "mycircuit.h(qreg[2])\n",
    "mycircuit.x(qreg[2]) \n",
    "\n",
    "\n",
    "job = execute(mycircuit,Aer.get_backend('unitary_simulator'))\n",
    "u=job.result().get_unitary(mycircuit,decimals=3)\n",
    "for i in range(len(u)):\n",
    "    s=\"\"\n",
    "    for j in range(len(u)):\n",
    "        val = str(u[i][j].real)\n",
    "        while(len(val)<5): val  = \" \"+val\n",
    "        s = s + val\n",
    "    print(s)\n",
    "    \n",
    "\n",
    "mycircuit.draw(output='mpl')"
   ]
  },
  {
   "cell_type": "markdown",
   "metadata": {},
   "source": [
    "<a id=\"task2\"></a>\n",
    "<h3>Task 2</h3>\n",
    "\n",
    "\n",
    "Let $N=4$. Implement the inversion operator and check whether you obtain the following matrix:\n",
    "\n",
    "$\\mymatrix{cccc}{-0.5 & 0.5 & 0.5 & 0.5 \\\\ 0.5 & -0.5 & 0.5 & 0.5 \\\\ 0.5 & 0.5 & -0.5 & 0.5 \\\\ 0.5 & 0.5 & 0.5 & -0.5}$."
   ]
  },
  {
   "cell_type": "markdown",
   "metadata": {},
   "source": [
    "<h3>Solution</h3>"
   ]
  },
  {
   "cell_type": "code",
   "execution_count": 3,
   "metadata": {},
   "outputs": [],
   "source": [
    "def inversion(circuit,quantum_reg):\n",
    "    \n",
    "    \n",
    "    #step 1\n",
    "    circuit.h(quantum_reg[1])\n",
    "    circuit.h(quantum_reg[0])\n",
    "    \n",
    "    #step 2\n",
    "    circuit.x(quantum_reg[1])\n",
    "    circuit.x(quantum_reg[0])\n",
    "\n",
    "    #step 3\n",
    "    circuit.ccx(quantum_reg[1],quantum_reg[0],quantum_reg[2])\n",
    "\n",
    "    #step 4\n",
    "    circuit.x(quantum_reg[1])\n",
    "    circuit.x(quantum_reg[0])\n",
    "    \n",
    "    #step 5\n",
    "    circuit.x(quantum_reg[2])\n",
    "    \n",
    "    #step 6\n",
    "    circuit.h(quantum_reg[1])\n",
    "    circuit.h(quantum_reg[0])\n",
    "\n",
    "\n",
    "\n",
    "\n"
   ]
  },
  {
   "cell_type": "markdown",
   "metadata": {},
   "source": [
    "Below you can check the matrix of your inversion operator and how the circuit looks like. We are interested in top-left $4 \\times 4$ part of the matrix, the remaining parts are because we used ancilla qubit."
   ]
  },
  {
   "cell_type": "code",
   "execution_count": 4,
   "metadata": {},
   "outputs": [
    {
     "name": "stdout",
     "output_type": "stream",
     "text": [
      " -0.5  0.5  0.5  0.5  0.0  0.0  0.0  0.0\n",
      "  0.5 -0.5  0.5  0.5  0.0  0.0  0.0  0.0\n",
      "  0.5  0.5 -0.5  0.5  0.0  0.0  0.0  0.0\n",
      "  0.5  0.5  0.5 -0.5  0.0  0.0  0.0  0.0\n",
      "  0.0  0.0  0.0  0.0  1.0  0.0  0.0  0.0\n",
      "  0.0  0.0  0.0  0.0  0.0  1.0  0.0  0.0\n",
      "  0.0  0.0  0.0  0.0  0.0  0.0  1.0  0.0\n",
      "  0.0  0.0  0.0  0.0  0.0  0.0  0.0  1.0\n"
     ]
    },
    {
     "data": {
      "image/png": "[encoded data removed]",
      "text/plain": [
       "<Figure size 528.556x264.88 with 1 Axes>"
      ]
     },
     "execution_count": 4,
     "metadata": {},
     "output_type": "execute_result"
    }
   ],
   "source": [
    "from qiskit import QuantumRegister, ClassicalRegister, QuantumCircuit, execute, Aer\n",
    "\n",
    "qreg1 =  QuantumRegister(3)\n",
    "creg1 = ClassicalRegister(3)\n",
    "\n",
    "mycircuit1 = QuantumCircuit(qreg1,creg1)\n",
    "\n",
    "#set ancilla qubit\n",
    "mycircuit1.x(qreg1[2])\n",
    "mycircuit1.h(qreg1[2])\n",
    "    \n",
    "inversion(mycircuit1,qreg1)\n",
    "\n",
    "#set ancilla qubit back\n",
    "mycircuit1.h(qreg1[2])\n",
    "mycircuit1.x(qreg1[2])\n",
    "\n",
    "\n",
    "job = execute(mycircuit1,Aer.get_backend('unitary_simulator'))\n",
    "u=job.result().get_unitary(mycircuit1,decimals=3)\n",
    "for i in range(len(u)):\n",
    "    s=\"\"\n",
    "    for j in range(len(u)):\n",
    "        val = str(u[i][j].real)\n",
    "        while(len(val)<5): val  = \" \"+val\n",
    "        s = s + val\n",
    "    print(s)\n",
    "    \n",
    "mycircuit1.draw(output='mpl')"
   ]
  },
  {
   "cell_type": "markdown",
   "metadata": {},
   "source": [
    "<a id=\"task3\"></a>\n",
    "<h3>Task 3: Testing Grover's search</h3>\n",
    "\n",
    "Now we are ready to test our operations and run Grover's search. Suppose that there are 4 elements in the list and try to find the marked element.\n",
    "\n",
    "First run the following cell to load operator $U_f$. You can access it via:\n",
    "   f(circuit,qreg)\n",
    "    \n",
    "Which state do you observe the most? (Note that the last qubit is the ancilla and it is shared by the query and the inversion operators)"
   ]
  },
  {
   "cell_type": "code",
   "execution_count": 5,
   "metadata": {},
   "outputs": [],
   "source": [
    "%run f.py"
   ]
  },
  {
   "cell_type": "markdown",
   "metadata": {},
   "source": [
    "<h3>Solution</h3>"
   ]
  },
  {
   "cell_type": "code",
   "execution_count": 6,
   "metadata": {},
   "outputs": [
    {
     "name": "stdout",
     "output_type": "stream",
     "text": [
      "100 is observed 10000 times\n"
     ]
    },
    {
     "data": {
      "image/png": "[encoded data removed]",
      "text/plain": [
       "<Figure size 1250.96x264.88 with 1 Axes>"
      ]
     },
     "execution_count": 6,
     "metadata": {},
     "output_type": "execute_result"
    }
   ],
   "source": [
    "from qiskit import QuantumRegister, ClassicalRegister, QuantumCircuit, execute, Aer\n",
    "\n",
    "qreg = QuantumRegister(3)\n",
    "creg = ClassicalRegister(3)\n",
    "\n",
    "mycircuit = QuantumCircuit(qreg,creg)\n",
    "\n",
    "#Grover\n",
    "\n",
    "\n",
    "#initial step - equal superposition\n",
    "for i in range(2):\n",
    "    mycircuit.h(qreg[i])\n",
    "\n",
    "#set ancilla\n",
    "mycircuit.x(qreg[2])\n",
    "mycircuit.h(qreg[2])\n",
    "\n",
    "mycircuit.barrier()\n",
    "\n",
    "#change the number of iterations\n",
    "iterations=1\n",
    "\n",
    "#Grover's iterations.\n",
    "for i in range(iterations):\n",
    "    #query\n",
    "    f(mycircuit,qreg)\n",
    "    \n",
    "    mycircuit.barrier()\n",
    "    #inversion\n",
    "    inversion(mycircuit,qreg)\n",
    "    mycircuit.barrier()\n",
    "    \n",
    "    \n",
    "#set ancilla back\n",
    "mycircuit.h(qreg[2])\n",
    "mycircuit.x(qreg[2]) \n",
    "    \n",
    "mycircuit.measure(qreg,creg)\n",
    "\n",
    "job = execute(mycircuit,Aer.get_backend('qasm_simulator'),shots=10000)\n",
    "counts = job.result().get_counts(mycircuit)\n",
    "\n",
    "# print the reverse of the outcome\n",
    "for outcome in counts:\n",
    "    reverse_outcome = ''\n",
    "    for i in outcome:\n",
    "        reverse_outcome = i + reverse_outcome\n",
    "    print(reverse_outcome,\"is observed\",counts[outcome],\"times\")\n",
    "\n",
    "mycircuit.draw(output='mpl')"
   ]
  },
  {
   "cell_type": "markdown",
   "metadata": {},
   "source": [
    "<a id=\"task4\"></a>\n",
    "<h3>Task 4 (Optional, challenging)</h3>\n",
    "\n",
    "Implement the inversion operation for $n=3$ ($N=8$). This time you will need 5 qubits - 3 for the operation, 1 for ancilla, and one more qubit to implement not gate controlled by three qubits.\n",
    "\n",
    "In the implementation the ancilla qubit will be qubit 4, while qubits for control are 0, 1 and 2; qubit 3 is used for th multiple control operation. As a result you should obtain the following values in the top-left $8 \\times 8$ entries:\n",
    "\n",
    "$\\mymatrix{cccccccc}{-0.75 & 0.25 & 0.25 & 0.25 & 0.25 & 0.25 & 0.25 & 0.25 \\\\ 0.25 & -0.75 & 0.25 & 0.25 & 0.25 & 0.25 & 0.25 & 0.25 \\\\ 0.25 & 0.25 & -0.75 & 0.25 & 0.25 & 0.25 & 0.25 & 0.25 \\\\ 0.25 & 0.25 & 0.25 & -0.75 & 0.25 & 0.25 & 0.25 & 0.25 \\\\ 0.25 & 0.25 & 0.25 & 0.25 & -0.75 & 0.25 & 0.25 & 0.25 \\\\ 0.25 & 0.25 & 0.25 & 0.25 & 0.25 & -0.75 & 0.25 & 0.25 \\\\ 0.25 & 0.25 & 0.25 & 0.25 & 0.25 & 0.25 & -0.75 & 0.25 \\\\ 0.25 & 0.25 & 0.25 & 0.25 & 0.25 & 0.25 & 0.25 & -0.75}$."
   ]
  },
  {
   "cell_type": "markdown",
   "metadata": {},
   "source": [
    "<h3>Solution</h3>"
   ]
  },
  {
   "cell_type": "code",
   "execution_count": 7,
   "metadata": {},
   "outputs": [],
   "source": [
    "def big_inversion(circuit,quantum_reg):\n",
    "   \n",
    "\n",
    "    for i in range(3):\n",
    "        circuit.h(quantum_reg[i])\n",
    "        circuit.x(quantum_reg[i])\n",
    "\n",
    "    circuit.ccx(quantum_reg[1],quantum_reg[0],quantum_reg[4])\n",
    "    circuit.ccx(quantum_reg[2],quantum_reg[4],quantum_reg[3])\n",
    "    circuit.ccx(quantum_reg[1],quantum_reg[0],quantum_reg[4])\n",
    "\n",
    "    for i in range(3):\n",
    "        circuit.x(quantum_reg[i])\n",
    "        circuit.h(quantum_reg[i])\n",
    "\n",
    "    \n",
    "    circuit.x(quantum_reg[3])\n",
    "    \n",
    "   "
   ]
  },
  {
   "cell_type": "markdown",
   "metadata": {},
   "source": [
    "Below you can check the matrix of your inversion operator. We are interested in the top-left $8 \\times 8$ part of the matrix, the remaining parts are because of additional qubits."
   ]
  },
  {
   "cell_type": "code",
   "execution_count": 8,
   "metadata": {},
   "outputs": [
    {
     "name": "stdout",
     "output_type": "stream",
     "text": [
      " -0.75  0.25  0.25  0.25  0.25  0.25  0.25  0.25\n",
      "  0.25 -0.75  0.25  0.25  0.25  0.25  0.25  0.25\n",
      "  0.25  0.25 -0.75  0.25  0.25  0.25  0.25  0.25\n",
      "  0.25  0.25  0.25 -0.75  0.25  0.25  0.25  0.25\n",
      "  0.25  0.25  0.25  0.25 -0.75  0.25  0.25  0.25\n",
      "  0.25  0.25  0.25  0.25  0.25 -0.75  0.25  0.25\n",
      "  0.25  0.25  0.25  0.25  0.25  0.25 -0.75  0.25\n",
      "  0.25  0.25  0.25  0.25  0.25  0.25  0.25 -0.75\n"
     ]
    }
   ],
   "source": [
    "from qiskit import QuantumRegister, ClassicalRegister, QuantumCircuit, execute, Aer\n",
    "\n",
    "big_qreg2 =  QuantumRegister(5)\n",
    "big_creg2 = ClassicalRegister(5)\n",
    "\n",
    "big_mycircuit2 = QuantumCircuit(big_qreg2,big_creg2)\n",
    "\n",
    "#set ancilla\n",
    "big_mycircuit2.x(big_qreg2[3])\n",
    "big_mycircuit2.h(big_qreg2[3])\n",
    "    \n",
    "big_inversion(big_mycircuit2,big_qreg2)\n",
    "\n",
    "#set ancilla back\n",
    "big_mycircuit2.h(big_qreg2[3])\n",
    "big_mycircuit2.x(big_qreg2[3])\n",
    "\n",
    "job = execute(big_mycircuit2,Aer.get_backend('unitary_simulator'))\n",
    "u=job.result().get_unitary(big_mycircuit2,decimals=3)\n",
    "for i in range(8):\n",
    "    s=\"\"\n",
    "    for j in range(8):\n",
    "        val = str(u[i][j].real)\n",
    "        while(len(val)<6): val  = \" \"+val\n",
    "        s = s + val\n",
    "    print(s)"
   ]
  },
  {
   "cell_type": "markdown",
   "metadata": {},
   "source": [
    "<a id=\"task5\"></a>\n",
    "<h3>Task 5: Testing Grover's search for 8 elements (Optional, challenging)</h3>\n",
    "\n",
    "Now we will test Grover's search on 8 elements.\n",
    "\n",
    "First run the following cell to load operator $U_f$. You can access it via:\n",
    "\n",
    "You can access the operator $U_{f_8}$ by f_8(circuit,qreg)\n",
    "    \n",
    "Which state do you observe the most?  (Note that the last two qubits are extra qubits.)"
   ]
  },
  {
   "cell_type": "code",
   "execution_count": 9,
   "metadata": {},
   "outputs": [],
   "source": [
    "%run f.py"
   ]
  },
  {
   "cell_type": "markdown",
   "metadata": {},
   "source": [
    "<h3>Solution</h3>"
   ]
  },
  {
   "cell_type": "code",
   "execution_count": 10,
   "metadata": {},
   "outputs": [
    {
     "name": "stdout",
     "output_type": "stream",
     "text": [
      "10100 is observed 86 times\n",
      "01100 is observed 77 times\n",
      "11000 is observed 9440 times\n",
      "10000 is observed 75 times\n",
      "00000 is observed 74 times\n",
      "00100 is observed 86 times\n",
      "11100 is observed 80 times\n",
      "01000 is observed 82 times\n"
     ]
    },
    {
     "data": {
      "image/png": "[encoded data removed]",
      "text/plain": [
       "<Figure size 1672.36x806.68 with 1 Axes>"
      ]
     },
     "execution_count": 10,
     "metadata": {},
     "output_type": "execute_result"
    }
   ],
   "source": [
    "from qiskit import QuantumRegister, ClassicalRegister, QuantumCircuit, execute, Aer\n",
    "\n",
    "qreg8 =  QuantumRegister(5)\n",
    "creg8 = ClassicalRegister(5)\n",
    "\n",
    "mycircuit8 = QuantumCircuit(qreg8,creg8)\n",
    "\n",
    "#set ancilla\n",
    "mycircuit8.x(qreg8[3])\n",
    "mycircuit8.h(qreg8[3])\n",
    "\n",
    "#Grover\n",
    "for i in range(3):\n",
    "    mycircuit8.h(qreg8[i])\n",
    "\n",
    "mycircuit8.barrier()\n",
    "\n",
    "#Try 1,2,6,12 8iterations of Grover\n",
    "for i in range(2):\n",
    "    f_8(mycircuit8,qreg8)\n",
    "    mycircuit8.barrier()\n",
    "    big_inversion(mycircuit8,qreg8)\n",
    "    mycircuit8.barrier()\n",
    "\n",
    "#set ancilla back\n",
    "\n",
    "mycircuit8.h(qreg8[3])\n",
    "mycircuit8.x(qreg8[3])\n",
    "\n",
    "mycircuit8.measure(qreg8,creg8)\n",
    "\n",
    "job = execute(mycircuit8,Aer.get_backend('qasm_simulator'),shots=10000)\n",
    "counts8 = job.result().get_counts(mycircuit8)\n",
    "# print the reverse of the outcome\n",
    "for outcome in counts8:\n",
    "    reverse_outcome = ''\n",
    "    for i in outcome:\n",
    "        reverse_outcome = i + reverse_outcome\n",
    "    print(reverse_outcome,\"is observed\",counts8[outcome],\"times\")\n",
    "\n",
    "mycircuit8.draw(output='mpl')"
   ]
  },
  {
   "cell_type": "code",
   "execution_count": null,
   "metadata": {},
   "outputs": [],
   "source": []
  },
  {
   "cell_type": "code",
   "execution_count": null,
   "metadata": {},
   "outputs": [],
   "source": []
  },
  {
   "cell_type": "code",
   "execution_count": null,
   "metadata": {},
   "outputs": [],
   "source": []
  },
  {
   "cell_type": "code",
   "execution_count": null,
   "metadata": {},
   "outputs": [],
   "source": []
  },
  {
   "cell_type": "code",
   "execution_count": null,
   "metadata": {},
   "outputs": [],
   "source": []
  },
  {
   "cell_type": "code",
   "execution_count": null,
   "metadata": {},
   "outputs": [],
   "source": []
  },
  {
   "cell_type": "code",
   "execution_count": null,
   "metadata": {},
   "outputs": [],
   "source": []
  },
  {
   "cell_type": "code",
   "execution_count": null,
   "metadata": {},
   "outputs": [],
   "source": []
  },
  {
   "cell_type": "code",
   "execution_count": null,
   "metadata": {},
   "outputs": [],
   "source": []
  },
  {
   "cell_type": "code",
   "execution_count": null,
   "metadata": {},
   "outputs": [],
   "source": []
  },
  {
   "cell_type": "code",
   "execution_count": null,
   "metadata": {},
   "outputs": [],
   "source": []
  },
  {
   "cell_type": "code",
   "execution_count": null,
   "metadata": {},
   "outputs": [],
   "source": []
  },
  {
   "cell_type": "code",
   "execution_count": null,
   "metadata": {},
   "outputs": [],
   "source": []
  },
  {
   "cell_type": "code",
   "execution_count": null,
   "metadata": {},
   "outputs": [],
   "source": []
  },
  {
   "cell_type": "code",
   "execution_count": null,
   "metadata": {},
   "outputs": [],
   "source": []
  },
  {
   "cell_type": "code",
   "execution_count": null,
   "metadata": {},
   "outputs": [],
   "source": []
  }
 ],
 "metadata": {
  "kernelspec": {
   "display_name": "Python 3",
   "language": "python",
   "name": "python3"
  },
  "language_info": {
   "codemirror_mode": {
    "name": "ipython",
    "version": 3
   },
   "file_extension": ".py",
   "mimetype": "text/x-python",
   "name": "python",
   "nbconvert_exporter": "python",
   "pygments_lexer": "ipython3",
   "version": "3.7.4"
  }
 },
 "nbformat": 4,
 "nbformat_minor": 4
}
